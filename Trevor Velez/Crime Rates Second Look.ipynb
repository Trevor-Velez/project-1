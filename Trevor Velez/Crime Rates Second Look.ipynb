{
 "cells": [
  {
   "cell_type": "code",
   "execution_count": 128,
   "id": "3fe3c739",
   "metadata": {},
   "outputs": [],
   "source": [
    "import numpy as np\n",
    "import pandas as pd\n",
    "import matplotlib.pyplot as plt\n",
    "import wbgapi as wb"
   ]
  },
  {
   "cell_type": "code",
   "execution_count": 129,
   "id": "eddb5dc5",
   "metadata": {},
   "outputs": [],
   "source": [
    "homicide_file = \"Resources/homicide_total_rate_and_count.csv\"\n",
    "kidnapping_file = \"Resources/kidnapping_0.csv\"\n",
    "robbery_file = \"Resources/robbery_0.csv\"\n",
    "seizure_file = \"Resources/seizure-table.csv\"\n",
    "assault_file = \"Resources/serious_assault_0.csv\"\n",
    "\n",
    "x_axis = [\"2013\", \"2014\", \"2015\", \"2016\", \"2017\"]"
   ]
  },
  {
   "cell_type": "markdown",
   "id": "c014976b",
   "metadata": {},
   "source": [
    "# Violent Crime\n",
    "\n",
    "* Kidnapping\n",
    "* Assault\n",
    "* Robbery"
   ]
  },
  {
   "cell_type": "code",
   "execution_count": 130,
   "id": "a28051a5",
   "metadata": {},
   "outputs": [],
   "source": [
    "def clean_crime_data(crime, file):\n",
    "    # Read in our CSV File\n",
    "    dataframe = pd.read_csv(file)\n",
    "    \n",
    "    # Create a new dataframe with only Brazil values\n",
    "    dataframe = dataframe.loc[(dataframe[\"Unnamed: 2\"] == \"Brazil\"), :]\n",
    "    \n",
    "    # Renaming the columns to be more usable\n",
    "    dataframe = dataframe.rename(columns = {\n",
    "        \"Unnamed: 0\": \"Region\",\n",
    "        \"Unnamed: 1\": \"Sub-Region\",\n",
    "        \"Unnamed: 2\": \"Country\",\n",
    "        \"2013\": \"2013 Count\",\n",
    "        \"2013.1\": \"2013 Rate\",\n",
    "        \"2014\": \"2014 Count\",\n",
    "        \"2014.1\": \"2014 Rate\",\n",
    "        \"2015\": \"2015 Count\",\n",
    "        \"2015.1\": \"2015 Rate\",\n",
    "        \"2016\": \"2016 Count\",\n",
    "        \"2016.1\": \"2016 Rate\",\n",
    "        \"2017\": \"2017 Count\",\n",
    "        \"2017.1\": \"2017 Rate\"})\n",
    "    \n",
    "    # Creating a new dataframe where the rows are the years\n",
    "    # Since dataframe is only 1 row right now, we use iloc on row 0 and the specify the column name\n",
    "    final_dataframe = pd.DataFrame({\n",
    "        \"Year\": [\"2013\", \"2014\", \"2015\", \"2016\", \"2017\"],\n",
    "        \n",
    "        f\"{crime} Count\": [dataframe.iloc[0][\"2013 Count\"],\n",
    "                       dataframe.iloc[0][\"2014 Count\"],\n",
    "                       dataframe.iloc[0][\"2015 Count\"],\n",
    "                       dataframe.iloc[0][\"2016 Count\"], \n",
    "                       dataframe.iloc[0][\"2017 Count\"] ],\n",
    "        \n",
    "        f\"{crime} Rate\": [dataframe.iloc[0][\"2013 Rate\"],\n",
    "                      dataframe.iloc[0][\"2014 Rate\"],\n",
    "                      dataframe.iloc[0][\"2015 Rate\"], \n",
    "                      dataframe.iloc[0][\"2016 Rate\"], \n",
    "                      dataframe.iloc[0][\"2017 Rate\"]]})\n",
    "    \n",
    "    # The data right now is in strings and I need it as numbers to plot\n",
    "    # I created a list from the count column and then took out all of the commas\n",
    "    count_list = final_dataframe[f\"{crime} Count\"].tolist()\n",
    "    final_dataframe[f\"{crime} Count\"].replace({count_list[0]: count_list[0].replace(',', ''),\n",
    "                                               count_list[1]: count_list[1].replace(',', ''),\n",
    "                                               count_list[2]: count_list[2].replace(',', ''),\n",
    "                                               count_list[3]: count_list[3].replace(',', ''),\n",
    "                                               count_list[4]: count_list[4].replace(',', '')}, inplace=True)\n",
    "    \n",
    "    # Then I made the values in Count and Rate into numeric values\n",
    "    final_dataframe[[f\"{crime} Count\", f\"{crime} Rate\"]] = final_dataframe[[f\"{crime} Count\", f\"{crime} Rate\"]].apply(pd.to_numeric)\n",
    "    \n",
    "    return final_dataframe.set_index(\"Year\")"
   ]
  },
  {
   "cell_type": "code",
   "execution_count": 131,
   "id": "8c0b2fc6",
   "metadata": {},
   "outputs": [],
   "source": [
    "# This is where I call the function I just made and pass in the crime and the file\n",
    "\n",
    "kidnapping_data = clean_crime_data(\"Kidnapping\", kidnapping_file)\n",
    "robbery_data = clean_crime_data(\"Robbery\", robbery_file)\n",
    "assault_data = clean_crime_data(\"Assault\", assault_file)"
   ]
  },
  {
   "cell_type": "code",
   "execution_count": 132,
   "id": "f78ede87",
   "metadata": {},
   "outputs": [],
   "source": [
    "# Merging the data all into 1 dataframe\n",
    "\n",
    "merged_data = kidnapping_data.merge(robbery_data, how='outer', on = 'Year')\n",
    "merged_thrice = merged_data.merge(assault_data, how='outer', on = 'Year')"
   ]
  },
  {
   "cell_type": "code",
   "execution_count": 133,
   "id": "f1401e57",
   "metadata": {
    "scrolled": true
   },
   "outputs": [
    {
     "data": {
      "text/html": [
       "<div>\n",
       "<style scoped>\n",
       "    .dataframe tbody tr th:only-of-type {\n",
       "        vertical-align: middle;\n",
       "    }\n",
       "\n",
       "    .dataframe tbody tr th {\n",
       "        vertical-align: top;\n",
       "    }\n",
       "\n",
       "    .dataframe thead th {\n",
       "        text-align: right;\n",
       "    }\n",
       "</style>\n",
       "<table border=\"1\" class=\"dataframe\">\n",
       "  <thead>\n",
       "    <tr style=\"text-align: right;\">\n",
       "      <th></th>\n",
       "      <th>Kidnapping Count</th>\n",
       "      <th>Kidnapping Rate</th>\n",
       "      <th>Robbery Count</th>\n",
       "      <th>Robbery Rate</th>\n",
       "      <th>Assault Count</th>\n",
       "      <th>Assault Rate</th>\n",
       "    </tr>\n",
       "    <tr>\n",
       "      <th>Year</th>\n",
       "      <th></th>\n",
       "      <th></th>\n",
       "      <th></th>\n",
       "      <th></th>\n",
       "      <th></th>\n",
       "      <th></th>\n",
       "    </tr>\n",
       "  </thead>\n",
       "  <tbody>\n",
       "    <tr>\n",
       "      <th>2013</th>\n",
       "      <td>396</td>\n",
       "      <td>0.197</td>\n",
       "      <td>1012504</td>\n",
       "      <td>503.643</td>\n",
       "      <td>661494</td>\n",
       "      <td>329.04</td>\n",
       "    </tr>\n",
       "    <tr>\n",
       "      <th>2014</th>\n",
       "      <td>413</td>\n",
       "      <td>0.204</td>\n",
       "      <td>1282371</td>\n",
       "      <td>632.445</td>\n",
       "      <td>606252</td>\n",
       "      <td>298.99</td>\n",
       "    </tr>\n",
       "    <tr>\n",
       "      <th>2015</th>\n",
       "      <td>473</td>\n",
       "      <td>0.231</td>\n",
       "      <td>1550614</td>\n",
       "      <td>758.350</td>\n",
       "      <td>621009</td>\n",
       "      <td>303.71</td>\n",
       "    </tr>\n",
       "    <tr>\n",
       "      <th>2016</th>\n",
       "      <td>753</td>\n",
       "      <td>0.365</td>\n",
       "      <td>1590325</td>\n",
       "      <td>771.392</td>\n",
       "      <td>600920</td>\n",
       "      <td>291.48</td>\n",
       "    </tr>\n",
       "    <tr>\n",
       "      <th>2017</th>\n",
       "      <td>524</td>\n",
       "      <td>0.252</td>\n",
       "      <td>1657131</td>\n",
       "      <td>797.334</td>\n",
       "      <td>591881</td>\n",
       "      <td>284.79</td>\n",
       "    </tr>\n",
       "  </tbody>\n",
       "</table>\n",
       "</div>"
      ],
      "text/plain": [
       "      Kidnapping Count  Kidnapping Rate  Robbery Count  Robbery Rate  \\\n",
       "Year                                                                   \n",
       "2013               396            0.197        1012504       503.643   \n",
       "2014               413            0.204        1282371       632.445   \n",
       "2015               473            0.231        1550614       758.350   \n",
       "2016               753            0.365        1590325       771.392   \n",
       "2017               524            0.252        1657131       797.334   \n",
       "\n",
       "      Assault Count  Assault Rate  \n",
       "Year                               \n",
       "2013         661494        329.04  \n",
       "2014         606252        298.99  \n",
       "2015         621009        303.71  \n",
       "2016         600920        291.48  \n",
       "2017         591881        284.79  "
      ]
     },
     "execution_count": 133,
     "metadata": {},
     "output_type": "execute_result"
    }
   ],
   "source": [
    "merged_thrice"
   ]
  },
  {
   "cell_type": "code",
   "execution_count": 134,
   "id": "ec7dcae0",
   "metadata": {},
   "outputs": [
    {
     "data": {
      "image/png": "[encoded data removed]",
      "text/plain": [
       "<Figure size 720x720 with 3 Axes>"
      ]
     },
     "metadata": {
      "needs_background": "light"
     },
     "output_type": "display_data"
    }
   ],
   "source": [
    "# Creating a figure that has 3 subplots to plot my violent crime data\n",
    "# The figure will share the same x values being the years\n",
    "\n",
    "fig, axs = plt.subplots(3, sharex=True, sharey=False, figsize=(10, 10))\n",
    "\n",
    "axs[0].set_title(\"Brazil - Kidnappings per Year\")\n",
    "axs[0].plot(x_axis, merged_thrice[\"Kidnapping Count\"], marker=\"o\", linewidth=2)\n",
    "axs[0].set_ylabel(\"Kidnapping Count\")\n",
    "axs[0].grid()\n",
    "\n",
    "axs[1].set_title(\"Brazil - Robberies per Year\")\n",
    "axs[1].plot(x_axis, merged_thrice[\"Robbery Count\"], marker=\"o\", linewidth=2)\n",
    "axs[1].set_ylabel(\"Robbery Count (100k)\")\n",
    "axs[1].grid()\n",
    "\n",
    "axs[2].set_title(\"Brazil - Assaults per Year\")\n",
    "axs[2].plot(x_axis, merged_thrice[\"Assault Count\"], marker=\"o\", linewidth=2)\n",
    "axs[2].set_ylabel(\"Assault Count\")\n",
    "axs[2].set_xlabel(\"Year\")\n",
    "axs[2].grid()\n",
    "\n",
    "\n",
    "plt.savefig(\"Images/Violent_Crimes.png\")\n",
    "plt.show()"
   ]
  },
  {
   "cell_type": "markdown",
   "id": "2b570222",
   "metadata": {},
   "source": [
    "# Homicide\n",
    "\n",
    "* Homicide Count and Rate(per 100k people)\n",
    "* 2013 - 2017"
   ]
  },
  {
   "cell_type": "code",
   "execution_count": 135,
   "id": "7e14e12f",
   "metadata": {},
   "outputs": [],
   "source": [
    "def clean_homicide_data(crime, file):\n",
    "    dataframe = pd.read_csv(file)\n",
    "    \n",
    "    dataframe = dataframe.loc[(dataframe[\"Territory\"] == \"Brazil\"), :]\n",
    "    \n",
    "    dataframe = dataframe.loc[\n",
    "        (dataframe[\"Year\"] == 2013) |\n",
    "        (dataframe[\"Year\"] == 2014) |\n",
    "        (dataframe[\"Year\"] == 2015) | \n",
    "        (dataframe[\"Year\"] == 2016) |\n",
    "        (dataframe[\"Year\"] == 2017), :]\n",
    "    \n",
    "    \n",
    "    final_dataframe = pd.DataFrame({\n",
    "    \"Year\": [\"2013\", \"2014\", \"2015\", \"2016\", \"2017\"],\n",
    "        \n",
    "    f\"{crime} Count\": [dataframe.iloc[0][\"Value\"],\n",
    "                       dataframe.iloc[1][\"Value\"],\n",
    "                       dataframe.iloc[2][\"Value\"],\n",
    "                       dataframe.iloc[3][\"Value\"], \n",
    "                       dataframe.iloc[4][\"Value\"] ],\n",
    "        \n",
    "    f\"{crime} Rate\": [dataframe.iloc[5][\"Value\"],\n",
    "                      dataframe.iloc[6][\"Value\"],\n",
    "                      dataframe.iloc[7][\"Value\"], \n",
    "                      dataframe.iloc[8][\"Value\"], \n",
    "                      dataframe.iloc[9][\"Value\"]]})\n",
    "    \n",
    "    return final_dataframe.set_index(\"Year\")\n",
    "    "
   ]
  },
  {
   "cell_type": "code",
   "execution_count": 136,
   "id": "0da7cf5d",
   "metadata": {},
   "outputs": [],
   "source": [
    "homicide_data = clean_homicide_data(\"Homicide\", homicide_file)"
   ]
  },
  {
   "cell_type": "code",
   "execution_count": 137,
   "id": "ecb2f984",
   "metadata": {
    "scrolled": false
   },
   "outputs": [
    {
     "data": {
      "text/html": [
       "<div>\n",
       "<style scoped>\n",
       "    .dataframe tbody tr th:only-of-type {\n",
       "        vertical-align: middle;\n",
       "    }\n",
       "\n",
       "    .dataframe tbody tr th {\n",
       "        vertical-align: top;\n",
       "    }\n",
       "\n",
       "    .dataframe thead th {\n",
       "        text-align: right;\n",
       "    }\n",
       "</style>\n",
       "<table border=\"1\" class=\"dataframe\">\n",
       "  <thead>\n",
       "    <tr style=\"text-align: right;\">\n",
       "      <th></th>\n",
       "      <th>Homicide Count</th>\n",
       "      <th>Homicide Rate</th>\n",
       "    </tr>\n",
       "    <tr>\n",
       "      <th>Year</th>\n",
       "      <th></th>\n",
       "      <th></th>\n",
       "    </tr>\n",
       "  </thead>\n",
       "  <tbody>\n",
       "    <tr>\n",
       "      <th>2013</th>\n",
       "      <td>54163.0</td>\n",
       "      <td>26.941954</td>\n",
       "    </tr>\n",
       "    <tr>\n",
       "      <th>2014</th>\n",
       "      <td>58497.0</td>\n",
       "      <td>28.849832</td>\n",
       "    </tr>\n",
       "    <tr>\n",
       "      <th>2015</th>\n",
       "      <td>58459.0</td>\n",
       "      <td>28.590256</td>\n",
       "    </tr>\n",
       "    <tr>\n",
       "      <th>2016</th>\n",
       "      <td>61597.0</td>\n",
       "      <td>29.877807</td>\n",
       "    </tr>\n",
       "    <tr>\n",
       "      <th>2017</th>\n",
       "      <td>64078.0</td>\n",
       "      <td>30.831363</td>\n",
       "    </tr>\n",
       "  </tbody>\n",
       "</table>\n",
       "</div>"
      ],
      "text/plain": [
       "      Homicide Count  Homicide Rate\n",
       "Year                               \n",
       "2013         54163.0      26.941954\n",
       "2014         58497.0      28.849832\n",
       "2015         58459.0      28.590256\n",
       "2016         61597.0      29.877807\n",
       "2017         64078.0      30.831363"
      ]
     },
     "execution_count": 137,
     "metadata": {},
     "output_type": "execute_result"
    }
   ],
   "source": [
    "homicide_data"
   ]
  },
  {
   "cell_type": "code",
   "execution_count": 138,
   "id": "4300bc84",
   "metadata": {},
   "outputs": [
    {
     "data": {
      "image/png": "[encoded data removed]",
      "text/plain": [
       "<Figure size 432x288 with 1 Axes>"
      ]
     },
     "metadata": {
      "needs_background": "light"
     },
     "output_type": "display_data"
    }
   ],
   "source": [
    "plt.bar(x_axis, homicide_data[\"Homicide Count\"])\n",
    "plt.ylim(50000, 65000)\n",
    "plt.xlabel(\"Year\")\n",
    "plt.ylabel(\"Homicides\")\n",
    "\n",
    "plt.savefig(\"Images/Homicides.png\")\n",
    "plt.show()"
   ]
  },
  {
   "cell_type": "markdown",
   "id": "29c92614",
   "metadata": {},
   "source": [
    "# Drug Seizures\n",
    "\n",
    "* Looking at the change in drug seizures over a 5 year period\n",
    "* Looking for any correlation around the olympics\n"
   ]
  },
  {
   "cell_type": "code",
   "execution_count": 139,
   "id": "b23a4dfb",
   "metadata": {},
   "outputs": [],
   "source": [
    "def clean_drug_data(crime, file):\n",
    "    \n",
    "    dataframe = pd.read_csv(file)\n",
    "    \n",
    "    dataframe = dataframe.loc[(dataframe[\"Country\"] == \"Brazil\"), :]\n",
    "    \n",
    "    dataframe = dataframe.loc[\n",
    "        (dataframe[\"Year\"] == 2013) |\n",
    "        (dataframe[\"Year\"] == 2014) |\n",
    "        (dataframe[\"Year\"] == 2015) | \n",
    "        (dataframe[\"Year\"] == 2016) |\n",
    "        (dataframe[\"Year\"] == 2017), :]\n",
    "        \n",
    "    grouped_dataframe = dataframe.groupby(\"Year\").agg('sum')\n",
    "    \n",
    "    return grouped_dataframe"
   ]
  },
  {
   "cell_type": "code",
   "execution_count": 140,
   "id": "0af7ee0a",
   "metadata": {},
   "outputs": [],
   "source": [
    "seizure_data = clean_drug_data(\"Seizures\", seizure_file)"
   ]
  },
  {
   "cell_type": "code",
   "execution_count": 141,
   "id": "728979d4",
   "metadata": {
    "scrolled": true
   },
   "outputs": [
    {
     "data": {
      "text/html": [
       "<div>\n",
       "<style scoped>\n",
       "    .dataframe tbody tr th:only-of-type {\n",
       "        vertical-align: middle;\n",
       "    }\n",
       "\n",
       "    .dataframe tbody tr th {\n",
       "        vertical-align: top;\n",
       "    }\n",
       "\n",
       "    .dataframe thead th {\n",
       "        text-align: right;\n",
       "    }\n",
       "</style>\n",
       "<table border=\"1\" class=\"dataframe\">\n",
       "  <thead>\n",
       "    <tr style=\"text-align: right;\">\n",
       "      <th></th>\n",
       "      <th>KgEquivalent</th>\n",
       "    </tr>\n",
       "    <tr>\n",
       "      <th>Year</th>\n",
       "      <th></th>\n",
       "    </tr>\n",
       "  </thead>\n",
       "  <tbody>\n",
       "    <tr>\n",
       "      <th>2015</th>\n",
       "      <td>421214.787413</td>\n",
       "    </tr>\n",
       "    <tr>\n",
       "      <th>2016</th>\n",
       "      <td>337737.792714</td>\n",
       "    </tr>\n",
       "    <tr>\n",
       "      <th>2017</th>\n",
       "      <td>590307.585912</td>\n",
       "    </tr>\n",
       "  </tbody>\n",
       "</table>\n",
       "</div>"
      ],
      "text/plain": [
       "       KgEquivalent\n",
       "Year               \n",
       "2015  421214.787413\n",
       "2016  337737.792714\n",
       "2017  590307.585912"
      ]
     },
     "execution_count": 141,
     "metadata": {},
     "output_type": "execute_result"
    }
   ],
   "source": [
    "seizure_data"
   ]
  },
  {
   "cell_type": "code",
   "execution_count": 157,
   "id": "0265b0f1",
   "metadata": {},
   "outputs": [
    {
     "data": {
      "text/plain": [
       "KgEquivalent    float64\n",
       "dtype: object"
      ]
     },
     "execution_count": 157,
     "metadata": {},
     "output_type": "execute_result"
    }
   ],
   "source": [
    "seizure_data.dtypes"
   ]
  },
  {
   "cell_type": "code",
   "execution_count": 164,
   "id": "51d74696",
   "metadata": {},
   "outputs": [
    {
     "data": {
      "image/png": "[encoded data removed]",
      "text/plain": [
       "<Figure size 432x288 with 1 Axes>"
      ]
     },
     "metadata": {
      "needs_background": "light"
     },
     "output_type": "display_data"
    }
   ],
   "source": [
    "plt.bar([\"2015\", \"2016\", \"2017\"], seizure_data[\"KgEquivalent\"])\n",
    "plt.xlabel(\"Year\")\n",
    "plt.ylabel(\"kg of Drugs Seizure\")\n",
    "plt.title(\"Drug Seizure by year (2013 - 2017)\")\n",
    "plt.ylim(300000, 600000)\n",
    "\n",
    "plt.savefig(\"Images/Drug Seizures by Year.png\")\n",
    "plt.show()"
   ]
  },
  {
   "cell_type": "markdown",
   "id": "68cf8f83",
   "metadata": {},
   "source": [
    "# Crime Index 2013 - 2017\n",
    "\n",
    "* Data pulled from https://www.numbeo.com/crime/\n",
    "\n",
    "* Crime Index is determined by this definition:\n",
    "\n",
    "Crime Index is an estimation of overall level of crime in a given city or a country. We consider crime levels lower than 20 as very low, crime levels between 20 and 40 as being low, crime levels between 40 and 60 as being moderate, crime levels between 60 and 80 as being high and finally crime levels higher than 80 as being very high.\n"
   ]
  },
  {
   "cell_type": "code",
   "execution_count": 142,
   "id": "b9bb1539",
   "metadata": {},
   "outputs": [],
   "source": [
    "crime_index_2013 = \"Resources/2013 Crime Index.csv\"\n",
    "crime_index_2014 = \"Resources/2014 Crime Index.csv\"\n",
    "crime_index_2015 = \"Resources/2015 Crime Index.csv\"\n",
    "crime_index_2016 = \"Resources/2016 Crime Index.csv\"\n",
    "crime_index_2017 = \"Resources/2017 Crime Index.csv\"\n",
    "\n",
    "file_list = [crime_index_2013, \n",
    "             crime_index_2014, \n",
    "             crime_index_2015, \n",
    "             crime_index_2016,\n",
    "             crime_index_2017]\n"
   ]
  },
  {
   "cell_type": "code",
   "execution_count": 143,
   "id": "313d4c70",
   "metadata": {},
   "outputs": [],
   "source": [
    "def read_Crime_Index():\n",
    "    \n",
    "    crime_index_df = pd.DataFrame(columns=[\"Year\", \"Country\", \"Crime Index\"])\n",
    "    \n",
    "    file_list = [crime_index_2013, \n",
    "             crime_index_2014, \n",
    "             crime_index_2015, \n",
    "             crime_index_2016,\n",
    "             crime_index_2017]\n",
    "    \n",
    "    year_list = [\"2013\", \"2014\",\"2015\",\"2016\",\"2017\"]\n",
    "    \n",
    "    i = 0\n",
    "    \n",
    "    for x in file_list:\n",
    "        dataframe = pd.read_csv(file_list[i])\n",
    "        \n",
    "        dataframe = dataframe.loc[dataframe[\"Country\"] == \"Brazil\"]\n",
    "        \n",
    "        dataframe[\"Year\"] = year_list[i]\n",
    "    \n",
    "        crime_index_df = crime_index_df.append(dataframe, ignore_index=True)\n",
    "        \n",
    "        i += 1\n",
    "    \n",
    "    crime_index_df = crime_index_df.set_index(\"Year\")\n",
    "    \n",
    "    crime_index_df = crime_index_df[[\"Country\",\"Crime Index\"]]\n",
    "    \n",
    "    return crime_index_df"
   ]
  },
  {
   "cell_type": "code",
   "execution_count": 144,
   "id": "3592d278",
   "metadata": {
    "scrolled": true
   },
   "outputs": [
    {
     "data": {
      "text/html": [
       "<div>\n",
       "<style scoped>\n",
       "    .dataframe tbody tr th:only-of-type {\n",
       "        vertical-align: middle;\n",
       "    }\n",
       "\n",
       "    .dataframe tbody tr th {\n",
       "        vertical-align: top;\n",
       "    }\n",
       "\n",
       "    .dataframe thead th {\n",
       "        text-align: right;\n",
       "    }\n",
       "</style>\n",
       "<table border=\"1\" class=\"dataframe\">\n",
       "  <thead>\n",
       "    <tr style=\"text-align: right;\">\n",
       "      <th></th>\n",
       "      <th>Country</th>\n",
       "      <th>Crime Index</th>\n",
       "    </tr>\n",
       "    <tr>\n",
       "      <th>Year</th>\n",
       "      <th></th>\n",
       "      <th></th>\n",
       "    </tr>\n",
       "  </thead>\n",
       "  <tbody>\n",
       "    <tr>\n",
       "      <th>2013</th>\n",
       "      <td>Brazil</td>\n",
       "      <td>62.62</td>\n",
       "    </tr>\n",
       "    <tr>\n",
       "      <th>2014</th>\n",
       "      <td>Brazil</td>\n",
       "      <td>67.00</td>\n",
       "    </tr>\n",
       "    <tr>\n",
       "      <th>2015</th>\n",
       "      <td>Brazil</td>\n",
       "      <td>68.95</td>\n",
       "    </tr>\n",
       "    <tr>\n",
       "      <th>2016</th>\n",
       "      <td>Brazil</td>\n",
       "      <td>71.23</td>\n",
       "    </tr>\n",
       "    <tr>\n",
       "      <th>2017</th>\n",
       "      <td>Brazil</td>\n",
       "      <td>70.62</td>\n",
       "    </tr>\n",
       "  </tbody>\n",
       "</table>\n",
       "</div>"
      ],
      "text/plain": [
       "     Country  Crime Index\n",
       "Year                     \n",
       "2013  Brazil        62.62\n",
       "2014  Brazil        67.00\n",
       "2015  Brazil        68.95\n",
       "2016  Brazil        71.23\n",
       "2017  Brazil        70.62"
      ]
     },
     "execution_count": 144,
     "metadata": {},
     "output_type": "execute_result"
    }
   ],
   "source": [
    "crime_index_df = read_Crime_Index()\n",
    "crime_index_df"
   ]
  },
  {
   "cell_type": "code",
   "execution_count": 155,
   "id": "52b42bc1",
   "metadata": {},
   "outputs": [
    {
     "data": {
      "image/png": "[encoded data removed]",
      "text/plain": [
       "<Figure size 432x288 with 1 Axes>"
      ]
     },
     "metadata": {
      "needs_background": "light"
     },
     "output_type": "display_data"
    }
   ],
   "source": [
    "plt.plot(x_axis, crime_index_df[\"Crime Index\"], marker=\"o\", linewidth=2)\n",
    "plt.xlabel(\"Year\")\n",
    "plt.ylabel(\"Crime Index\")\n",
    "plt.title(\"Crime Index by Year (2013 - 2017)\")\n",
    "plt.grid()\n",
    "\n",
    "plt.ylim(62, 72)\n",
    "plt.yticks(np.arange(62, 72, step=1))\n",
    "\n",
    "plt.savefig(\"Images/Crime Index by Year.png\")\n",
    "plt.show()"
   ]
  },
  {
   "cell_type": "code",
   "execution_count": null,
   "id": "597bf029",
   "metadata": {},
   "outputs": [],
   "source": []
  }
 ],
 "metadata": {
  "kernelspec": {
   "display_name": "Python 3",
   "language": "python",
   "name": "python3"
  },
  "language_info": {
   "codemirror_mode": {
    "name": "ipython",
    "version": 3
   },
   "file_extension": ".py",
   "mimetype": "text/x-python",
   "name": "python",
   "nbconvert_exporter": "python",
   "pygments_lexer": "ipython3",
   "version": "3.8.8"
  }
 },
 "nbformat": 4,
 "nbformat_minor": 5
}
