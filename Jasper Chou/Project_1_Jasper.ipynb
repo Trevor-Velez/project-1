{
 "cells": [
  {
   "cell_type": "markdown",
   "metadata": {},
   "source": [
    "# Main Question: How did hosting the Olympics in 2016 affect Brazil?"
   ]
  },
  {
   "cell_type": "markdown",
   "metadata": {},
   "source": [
    "    * Sub question 1: Was Brazil's economy affected by hosting the 2016 Rio de Janeiro Summer Olympics?\n",
    "    * Sub question 2: Was Brazil's economy better or worse than other nations that hosted the Summer Olympics?"
   ]
  },
  {
   "cell_type": "markdown",
   "metadata": {},
   "source": [
    "# Economic Metrics for Brazil, Greece, and the United Kingdom"
   ]
  },
  {
   "cell_type": "markdown",
   "metadata": {},
   "source": [
    "    * Data source: World Bank (wbgapi is the World Bank's python package)\n",
    "    * All data pulled via wbgapi python api package:\n",
    "    \n",
    "            * GDP (current US$) from data series: NY.GDP.MKTP.CD\n",
    "            * GDP per Capita from data series: NY.GDP.PCAP.CD\n",
    "            * Inflation, consumer prices (annual %) from data series: FP.CPI.TOTL.ZG  \n",
    "            * Industry (including construction), value added (% of GDP) from data series: NV.IND.TOTL.ZS"
   ]
  },
  {
   "cell_type": "code",
   "execution_count": 27,
   "metadata": {},
   "outputs": [],
   "source": [
    "import requests\n",
    "import json\n",
    "import pandas as pd\n",
    "import matplotlib.pyplot as plt\n",
    "import wbdata\n",
    "import wbgapi as wb\n",
    "import numpy as np\n",
    "import requests\n",
    "import datetime\n",
    "from scipy.stats import linregress"
   ]
  },
  {
   "cell_type": "markdown",
   "metadata": {},
   "source": [
    "# Search query for series of data on various topics collected by the World Bank"
   ]
  },
  {
   "cell_type": "code",
   "execution_count": 49,
   "metadata": {},
   "outputs": [
    {
     "name": "stdout",
     "output_type": "stream",
     "text": [
      "Enter your single word World Bank query:\n",
      "industry\n"
     ]
    },
    {
     "data": {
      "text/html": [
       "<div>\n",
       "<style scoped>\n",
       "    .dataframe tbody tr th:only-of-type {\n",
       "        vertical-align: middle;\n",
       "    }\n",
       "\n",
       "    .dataframe tbody tr th {\n",
       "        vertical-align: top;\n",
       "    }\n",
       "\n",
       "    .dataframe thead th {\n",
       "        text-align: right;\n",
       "    }\n",
       "</style>\n",
       "<table border=\"1\" class=\"dataframe\">\n",
       "  <thead>\n",
       "    <tr style=\"text-align: right;\">\n",
       "      <th></th>\n",
       "      <th>id</th>\n",
       "      <th>value</th>\n",
       "    </tr>\n",
       "  </thead>\n",
       "  <tbody>\n",
       "    <tr>\n",
       "      <th>0</th>\n",
       "      <td>ER.H2O.FWIN.ZS</td>\n",
       "      <td>Annual freshwater withdrawals, industry (% of ...</td>\n",
       "    </tr>\n",
       "    <tr>\n",
       "      <th>1</th>\n",
       "      <td>NV.IND.EMPL.KD</td>\n",
       "      <td>Industry (including construction), value added...</td>\n",
       "    </tr>\n",
       "    <tr>\n",
       "      <th>2</th>\n",
       "      <td>NV.IND.TOTL.CD</td>\n",
       "      <td>Industry (including construction), value added...</td>\n",
       "    </tr>\n",
       "    <tr>\n",
       "      <th>3</th>\n",
       "      <td>NV.IND.TOTL.CN</td>\n",
       "      <td>Industry (including construction), value added...</td>\n",
       "    </tr>\n",
       "    <tr>\n",
       "      <th>4</th>\n",
       "      <td>NV.IND.TOTL.KD</td>\n",
       "      <td>Industry (including construction), value added...</td>\n",
       "    </tr>\n",
       "    <tr>\n",
       "      <th>5</th>\n",
       "      <td>NV.IND.TOTL.KD.ZG</td>\n",
       "      <td>Industry (including construction), value added...</td>\n",
       "    </tr>\n",
       "    <tr>\n",
       "      <th>6</th>\n",
       "      <td>NV.IND.TOTL.KN</td>\n",
       "      <td>Industry (including construction), value added...</td>\n",
       "    </tr>\n",
       "    <tr>\n",
       "      <th>7</th>\n",
       "      <td>NV.IND.TOTL.ZS</td>\n",
       "      <td>Industry (including construction), value added...</td>\n",
       "    </tr>\n",
       "    <tr>\n",
       "      <th>8</th>\n",
       "      <td>NV.MNF.TECH.ZS.UN</td>\n",
       "      <td>Medium and high-tech Industry (including const...</td>\n",
       "    </tr>\n",
       "    <tr>\n",
       "      <th>9</th>\n",
       "      <td>SL.IND.EMPL.FE.ZS</td>\n",
       "      <td>Employment in industry, female (% of female em...</td>\n",
       "    </tr>\n",
       "  </tbody>\n",
       "</table>\n",
       "</div>"
      ],
      "text/plain": [
       "                  id                                              value\n",
       "0     ER.H2O.FWIN.ZS  Annual freshwater withdrawals, industry (% of ...\n",
       "1     NV.IND.EMPL.KD  Industry (including construction), value added...\n",
       "2     NV.IND.TOTL.CD  Industry (including construction), value added...\n",
       "3     NV.IND.TOTL.CN  Industry (including construction), value added...\n",
       "4     NV.IND.TOTL.KD  Industry (including construction), value added...\n",
       "5  NV.IND.TOTL.KD.ZG  Industry (including construction), value added...\n",
       "6     NV.IND.TOTL.KN  Industry (including construction), value added...\n",
       "7     NV.IND.TOTL.ZS  Industry (including construction), value added...\n",
       "8  NV.MNF.TECH.ZS.UN  Medium and high-tech Industry (including const...\n",
       "9  SL.IND.EMPL.FE.ZS  Employment in industry, female (% of female em..."
      ]
     },
     "metadata": {},
     "output_type": "display_data"
    }
   ],
   "source": [
    "# Created a search query to search the World Bank for series of data based on key words.  I used the python\n",
    "# package that the World Bank developed.\n",
    "\n",
    "search = input(\"Enter your single word World Bank query:\\n\")\n",
    "results = wb.series.list(q = search)\n",
    "query_df = pd.DataFrame(results)\n",
    "try:\n",
    "    \n",
    "    if len(query_df['id']) == 0:\n",
    "        print('No Match')\n",
    "    else:\n",
    "        display(query_df.head(10))\n",
    "except:\n",
    "    \n",
    "    print('No Match Found')"
   ]
  },
  {
   "cell_type": "markdown",
   "metadata": {},
   "source": [
    "# Pulling data via wbgapi for GDP"
   ]
  },
  {
   "cell_type": "code",
   "execution_count": 29,
   "metadata": {},
   "outputs": [
    {
     "data": {
      "text/html": [
       "<div>\n",
       "<style scoped>\n",
       "    .dataframe tbody tr th:only-of-type {\n",
       "        vertical-align: middle;\n",
       "    }\n",
       "\n",
       "    .dataframe tbody tr th {\n",
       "        vertical-align: top;\n",
       "    }\n",
       "\n",
       "    .dataframe thead th {\n",
       "        text-align: right;\n",
       "    }\n",
       "</style>\n",
       "<table border=\"1\" class=\"dataframe\">\n",
       "  <thead>\n",
       "    <tr style=\"text-align: right;\">\n",
       "      <th></th>\n",
       "      <th>Country</th>\n",
       "      <th>2Yrs Before Olympics</th>\n",
       "      <th>1Yr Before Olympics</th>\n",
       "      <th>Olympic Year</th>\n",
       "      <th>1Yr After Olympics</th>\n",
       "      <th>2Yrs After Olympics</th>\n",
       "    </tr>\n",
       "    <tr>\n",
       "      <th>economy</th>\n",
       "      <th></th>\n",
       "      <th></th>\n",
       "      <th></th>\n",
       "      <th></th>\n",
       "      <th></th>\n",
       "      <th></th>\n",
       "    </tr>\n",
       "  </thead>\n",
       "  <tbody>\n",
       "    <tr>\n",
       "      <th>GBR</th>\n",
       "      <td>United Kingdom (2012)</td>\n",
       "      <td>2.481580e+12</td>\n",
       "      <td>2.659882e+12</td>\n",
       "      <td>2.704017e+12</td>\n",
       "      <td>2.783251e+12</td>\n",
       "      <td>3.065521e+12</td>\n",
       "    </tr>\n",
       "  </tbody>\n",
       "</table>\n",
       "</div>"
      ],
      "text/plain": [
       "                       Country  2Yrs Before Olympics  1Yr Before Olympics  \\\n",
       "economy                                                                     \n",
       "GBR      United Kingdom (2012)          2.481580e+12         2.659882e+12   \n",
       "\n",
       "         Olympic Year  1Yr After Olympics  2Yrs After Olympics  \n",
       "economy                                                         \n",
       "GBR      2.704017e+12        2.783251e+12         3.065521e+12  "
      ]
     },
     "execution_count": 29,
     "metadata": {},
     "output_type": "execute_result"
    }
   ],
   "source": [
    "# Pulling data from World Bank for United Kingdom for 2010, 2011, 2012 (olympic year), 2013, & 2014\n",
    "OlympicHostGBR_data = wb.data.DataFrame('NY.GDP.MKTP.CD', ['GBR'], time = (range(2010, 2015)), labels = True)\n",
    "OlympicHostGBR_data = OlympicHostGBR_data.rename(columns = {'YR2010' : '2Yrs Before Olympics',\n",
    "                                                           'YR2011' : '1Yr Before Olympics',\n",
    "                                                           'YR2012' : 'Olympic Year',\n",
    "                                                           'YR2013' : '1Yr After Olympics',\n",
    "                                                           'YR2014' : '2Yrs After Olympics'})\n",
    "\n",
    "# Changing the cell from \"United Kingdom\" to \"United Kingdom (2012)\" to signify the year of the Olympics\n",
    "OlympicHostGBR_data.at[:,'Country']='United Kingdom (2012)'\n",
    "OlympicHostGBR_data"
   ]
  },
  {
   "cell_type": "code",
   "execution_count": 30,
   "metadata": {},
   "outputs": [
    {
     "data": {
      "text/html": [
       "<div>\n",
       "<style scoped>\n",
       "    .dataframe tbody tr th:only-of-type {\n",
       "        vertical-align: middle;\n",
       "    }\n",
       "\n",
       "    .dataframe tbody tr th {\n",
       "        vertical-align: top;\n",
       "    }\n",
       "\n",
       "    .dataframe thead th {\n",
       "        text-align: right;\n",
       "    }\n",
       "</style>\n",
       "<table border=\"1\" class=\"dataframe\">\n",
       "  <thead>\n",
       "    <tr style=\"text-align: right;\">\n",
       "      <th></th>\n",
       "      <th>Country</th>\n",
       "      <th>2Yrs Before Olympics</th>\n",
       "      <th>1Yr Before Olympics</th>\n",
       "      <th>Olympic Year</th>\n",
       "      <th>1Yr After Olympics</th>\n",
       "      <th>2Yrs After Olympics</th>\n",
       "    </tr>\n",
       "    <tr>\n",
       "      <th>economy</th>\n",
       "      <th></th>\n",
       "      <th></th>\n",
       "      <th></th>\n",
       "      <th></th>\n",
       "      <th></th>\n",
       "      <th></th>\n",
       "    </tr>\n",
       "  </thead>\n",
       "  <tbody>\n",
       "    <tr>\n",
       "      <th>GRC</th>\n",
       "      <td>Greece (2004)</td>\n",
       "      <td>1.538309e+11</td>\n",
       "      <td>2.019243e+11</td>\n",
       "      <td>2.405213e+11</td>\n",
       "      <td>2.477830e+11</td>\n",
       "      <td>2.733177e+11</td>\n",
       "    </tr>\n",
       "  </tbody>\n",
       "</table>\n",
       "</div>"
      ],
      "text/plain": [
       "               Country  2Yrs Before Olympics  1Yr Before Olympics  \\\n",
       "economy                                                             \n",
       "GRC      Greece (2004)          1.538309e+11         2.019243e+11   \n",
       "\n",
       "         Olympic Year  1Yr After Olympics  2Yrs After Olympics  \n",
       "economy                                                         \n",
       "GRC      2.405213e+11        2.477830e+11         2.733177e+11  "
      ]
     },
     "execution_count": 30,
     "metadata": {},
     "output_type": "execute_result"
    }
   ],
   "source": [
    "# Pulling data from World Bank for Greece for 2002, 2003, 2004 (Olympic year), 2005, & 2006\n",
    "OlympicHostGRC_data = wb.data.DataFrame('NY.GDP.MKTP.CD', ['GRC'], time = (range(2002, 2007)), labels = True)\n",
    "OlympicHostGRC_data = OlympicHostGRC_data.rename(columns = {'YR2002' : '2Yrs Before Olympics',\n",
    "                                                           'YR2003' : '1Yr Before Olympics',\n",
    "                                                           'YR2004' : 'Olympic Year',\n",
    "                                                           'YR2005' : '1Yr After Olympics',\n",
    "                                                           'YR2006' : '2Yrs After Olympics'})\n",
    "\n",
    "# Changing the cell from \"Greece\" to \"Greece(2004)\" to signify the year of the Olympics\n",
    "OlympicHostGRC_data.at[:,'Country']='Greece (2004)'\n",
    "OlympicHostGRC_data"
   ]
  },
  {
   "cell_type": "code",
   "execution_count": 31,
   "metadata": {},
   "outputs": [
    {
     "data": {
      "text/html": [
       "<div>\n",
       "<style scoped>\n",
       "    .dataframe tbody tr th:only-of-type {\n",
       "        vertical-align: middle;\n",
       "    }\n",
       "\n",
       "    .dataframe tbody tr th {\n",
       "        vertical-align: top;\n",
       "    }\n",
       "\n",
       "    .dataframe thead th {\n",
       "        text-align: right;\n",
       "    }\n",
       "</style>\n",
       "<table border=\"1\" class=\"dataframe\">\n",
       "  <thead>\n",
       "    <tr style=\"text-align: right;\">\n",
       "      <th></th>\n",
       "      <th>Country</th>\n",
       "      <th>2Yrs Before Olympics</th>\n",
       "      <th>1Yr Before Olympics</th>\n",
       "      <th>Olympic Year</th>\n",
       "      <th>1Yr After Olympics</th>\n",
       "      <th>2Yrs After Olympics</th>\n",
       "    </tr>\n",
       "    <tr>\n",
       "      <th>economy</th>\n",
       "      <th></th>\n",
       "      <th></th>\n",
       "      <th></th>\n",
       "      <th></th>\n",
       "      <th></th>\n",
       "      <th></th>\n",
       "    </tr>\n",
       "  </thead>\n",
       "  <tbody>\n",
       "    <tr>\n",
       "      <th>BRA</th>\n",
       "      <td>Brazil (2016)</td>\n",
       "      <td>2.455994e+12</td>\n",
       "      <td>1.802214e+12</td>\n",
       "      <td>1.795700e+12</td>\n",
       "      <td>2.063508e+12</td>\n",
       "      <td>1.916947e+12</td>\n",
       "    </tr>\n",
       "  </tbody>\n",
       "</table>\n",
       "</div>"
      ],
      "text/plain": [
       "               Country  2Yrs Before Olympics  1Yr Before Olympics  \\\n",
       "economy                                                             \n",
       "BRA      Brazil (2016)          2.455994e+12         1.802214e+12   \n",
       "\n",
       "         Olympic Year  1Yr After Olympics  2Yrs After Olympics  \n",
       "economy                                                         \n",
       "BRA      1.795700e+12        2.063508e+12         1.916947e+12  "
      ]
     },
     "execution_count": 31,
     "metadata": {},
     "output_type": "execute_result"
    }
   ],
   "source": [
    "# Pulling data from World Bank for Brazil for 2014, 2015, 2016 (Olympic year), 2017, 2018\n",
    "OlympicHostBRA_data = wb.data.DataFrame('NY.GDP.MKTP.CD', ['BRA'], time = (range(2014, 2019)), labels = True)\n",
    "OlympicHostBRA_data = OlympicHostBRA_data.rename(columns = {'YR2014' : '2Yrs Before Olympics',\n",
    "                                                           'YR2015' : '1Yr Before Olympics',\n",
    "                                                           'YR2016' : 'Olympic Year',\n",
    "                                                           'YR2017' : '1Yr After Olympics',\n",
    "                                                           'YR2018' : '2Yrs After Olympics'})\n",
    "\n",
    "# Changing the cell from \"Brazil\" to Brazil (2016) to signify the year of the Olympics\n",
    "OlympicHostBRA_data.at[:,'Country']='Brazil (2016)'\n",
    "OlympicHostBRA_data"
   ]
  },
  {
   "cell_type": "code",
   "execution_count": 32,
   "metadata": {},
   "outputs": [
    {
     "data": {
      "text/html": [
       "<div>\n",
       "<style scoped>\n",
       "    .dataframe tbody tr th:only-of-type {\n",
       "        vertical-align: middle;\n",
       "    }\n",
       "\n",
       "    .dataframe tbody tr th {\n",
       "        vertical-align: top;\n",
       "    }\n",
       "\n",
       "    .dataframe thead th {\n",
       "        text-align: right;\n",
       "    }\n",
       "</style>\n",
       "<table border=\"1\" class=\"dataframe\">\n",
       "  <thead>\n",
       "    <tr style=\"text-align: right;\">\n",
       "      <th></th>\n",
       "      <th>Country</th>\n",
       "      <th>2Yrs Before Olympics</th>\n",
       "      <th>1Yr Before Olympics</th>\n",
       "      <th>Olympic Year</th>\n",
       "      <th>1Yr After Olympics</th>\n",
       "      <th>2Yrs After Olympics</th>\n",
       "    </tr>\n",
       "  </thead>\n",
       "  <tbody>\n",
       "    <tr>\n",
       "      <th>0</th>\n",
       "      <td>Greece (2004)</td>\n",
       "      <td>1.538309e+11</td>\n",
       "      <td>2.019243e+11</td>\n",
       "      <td>2.405213e+11</td>\n",
       "      <td>2.477830e+11</td>\n",
       "      <td>2.733177e+11</td>\n",
       "    </tr>\n",
       "    <tr>\n",
       "      <th>1</th>\n",
       "      <td>United Kingdom (2012)</td>\n",
       "      <td>2.481580e+12</td>\n",
       "      <td>2.659882e+12</td>\n",
       "      <td>2.704017e+12</td>\n",
       "      <td>2.783251e+12</td>\n",
       "      <td>3.065521e+12</td>\n",
       "    </tr>\n",
       "    <tr>\n",
       "      <th>2</th>\n",
       "      <td>Brazil (2016)</td>\n",
       "      <td>2.455994e+12</td>\n",
       "      <td>1.802214e+12</td>\n",
       "      <td>1.795700e+12</td>\n",
       "      <td>2.063508e+12</td>\n",
       "      <td>1.916947e+12</td>\n",
       "    </tr>\n",
       "  </tbody>\n",
       "</table>\n",
       "</div>"
      ],
      "text/plain": [
       "                 Country  2Yrs Before Olympics  1Yr Before Olympics  \\\n",
       "0          Greece (2004)          1.538309e+11         2.019243e+11   \n",
       "1  United Kingdom (2012)          2.481580e+12         2.659882e+12   \n",
       "2          Brazil (2016)          2.455994e+12         1.802214e+12   \n",
       "\n",
       "   Olympic Year  1Yr After Olympics  2Yrs After Olympics  \n",
       "0  2.405213e+11        2.477830e+11         2.733177e+11  \n",
       "1  2.704017e+12        2.783251e+12         3.065521e+12  \n",
       "2  1.795700e+12        2.063508e+12         1.916947e+12  "
      ]
     },
     "execution_count": 32,
     "metadata": {},
     "output_type": "execute_result"
    }
   ],
   "source": [
    "# Appending DataFrames into one\n",
    "OlympicHosts_a = OlympicHostGRC_data.append(OlympicHostGBR_data)\n",
    "OlympicHostsGDP = OlympicHosts_a.append(OlympicHostBRA_data).reset_index(drop = True)\n",
    "OlympicHostsGDP"
   ]
  },
  {
   "cell_type": "code",
   "execution_count": 33,
   "metadata": {},
   "outputs": [
    {
     "data": {
      "image/png": "[encoded data removed]",
      "text/plain": [
       "<Figure size 936x360 with 1 Axes>"
      ]
     },
     "metadata": {
      "needs_background": "light"
     },
     "output_type": "display_data"
    },
    {
     "data": {
      "text/plain": [
       "<Figure size 432x288 with 0 Axes>"
      ]
     },
     "metadata": {},
     "output_type": "display_data"
    }
   ],
   "source": [
    "# Plotting bargraph for GDP of host countries\n",
    "GDP_Bargraph = OlympicHostsGDP.plot.bar(x = 'Country', figsize = (13, 5))\n",
    "plt.xticks(rotation = 0)\n",
    "plt.xlabel('')\n",
    "plt.ylabel('GDP ($USD Trillions)')\n",
    "plt.title(\"GDP of Previous Olympic Host Countries\")\n",
    "plt.grid()\n",
    "plt.show()\n",
    "plt.savefig(\"GDP_previous_olympic_host.png\")"
   ]
  },
  {
   "cell_type": "markdown",
   "metadata": {},
   "source": [
    "# Pulling data via wbgapi for GDP per Capita"
   ]
  },
  {
   "cell_type": "code",
   "execution_count": 34,
   "metadata": {},
   "outputs": [
    {
     "data": {
      "text/html": [
       "<div>\n",
       "<style scoped>\n",
       "    .dataframe tbody tr th:only-of-type {\n",
       "        vertical-align: middle;\n",
       "    }\n",
       "\n",
       "    .dataframe tbody tr th {\n",
       "        vertical-align: top;\n",
       "    }\n",
       "\n",
       "    .dataframe thead th {\n",
       "        text-align: right;\n",
       "    }\n",
       "</style>\n",
       "<table border=\"1\" class=\"dataframe\">\n",
       "  <thead>\n",
       "    <tr style=\"text-align: right;\">\n",
       "      <th></th>\n",
       "      <th>Country</th>\n",
       "      <th>2Yrs Before Olympics</th>\n",
       "      <th>1Yr Before Olympics</th>\n",
       "      <th>Olympic Year</th>\n",
       "      <th>1Yr After Olympics</th>\n",
       "      <th>2Yrs After Olympics</th>\n",
       "    </tr>\n",
       "    <tr>\n",
       "      <th>economy</th>\n",
       "      <th></th>\n",
       "      <th></th>\n",
       "      <th></th>\n",
       "      <th></th>\n",
       "      <th></th>\n",
       "      <th></th>\n",
       "    </tr>\n",
       "  </thead>\n",
       "  <tbody>\n",
       "    <tr>\n",
       "      <th>GBR</th>\n",
       "      <td>United Kingdom (2012)</td>\n",
       "      <td>39536.772681</td>\n",
       "      <td>42047.614252</td>\n",
       "      <td>42449.107666</td>\n",
       "      <td>43401.31053</td>\n",
       "      <td>47452.199137</td>\n",
       "    </tr>\n",
       "  </tbody>\n",
       "</table>\n",
       "</div>"
      ],
      "text/plain": [
       "                       Country  2Yrs Before Olympics  1Yr Before Olympics  \\\n",
       "economy                                                                     \n",
       "GBR      United Kingdom (2012)          39536.772681         42047.614252   \n",
       "\n",
       "         Olympic Year  1Yr After Olympics  2Yrs After Olympics  \n",
       "economy                                                         \n",
       "GBR      42449.107666         43401.31053         47452.199137  "
      ]
     },
     "execution_count": 34,
     "metadata": {},
     "output_type": "execute_result"
    }
   ],
   "source": [
    "# Pulling data from World Bank for United Kingdom for 2010, 2011, 2012 (olympic year), 2013, & 2014\n",
    "GBR_GDP_pC = wb.data.DataFrame('NY.GDP.PCAP.CD', ['GBR'], time = (range(2010, 2015)), labels = True)\n",
    "GBR_GDP_pC = GBR_GDP_pC.rename(columns = {'YR2010' : '2Yrs Before Olympics',\n",
    "                                                           'YR2011' : '1Yr Before Olympics',\n",
    "                                                           'YR2012' : 'Olympic Year',\n",
    "                                                           'YR2013' : '1Yr After Olympics',\n",
    "                                                           'YR2014' : '2Yrs After Olympics'})\n",
    "\n",
    "# Changing the cell from \"United Kingdom\" to \"United Kingdom (2012)\" to signify the year of the Olympics\n",
    "GBR_GDP_pC.at[:,'Country']='United Kingdom (2012)'\n",
    "GBR_GDP_pC"
   ]
  },
  {
   "cell_type": "code",
   "execution_count": 35,
   "metadata": {},
   "outputs": [
    {
     "data": {
      "text/html": [
       "<div>\n",
       "<style scoped>\n",
       "    .dataframe tbody tr th:only-of-type {\n",
       "        vertical-align: middle;\n",
       "    }\n",
       "\n",
       "    .dataframe tbody tr th {\n",
       "        vertical-align: top;\n",
       "    }\n",
       "\n",
       "    .dataframe thead th {\n",
       "        text-align: right;\n",
       "    }\n",
       "</style>\n",
       "<table border=\"1\" class=\"dataframe\">\n",
       "  <thead>\n",
       "    <tr style=\"text-align: right;\">\n",
       "      <th></th>\n",
       "      <th>Country</th>\n",
       "      <th>2Yrs Before Olympics</th>\n",
       "      <th>1Yr Before Olympics</th>\n",
       "      <th>Olympic Year</th>\n",
       "      <th>1Yr After Olympics</th>\n",
       "      <th>2Yrs After Olympics</th>\n",
       "    </tr>\n",
       "    <tr>\n",
       "      <th>economy</th>\n",
       "      <th></th>\n",
       "      <th></th>\n",
       "      <th></th>\n",
       "      <th></th>\n",
       "      <th></th>\n",
       "      <th></th>\n",
       "    </tr>\n",
       "  </thead>\n",
       "  <tbody>\n",
       "    <tr>\n",
       "      <th>GRC</th>\n",
       "      <td>Greece (2004)</td>\n",
       "      <td>14110.313365</td>\n",
       "      <td>18477.57836</td>\n",
       "      <td>21955.104136</td>\n",
       "      <td>22551.735767</td>\n",
       "      <td>24801.157784</td>\n",
       "    </tr>\n",
       "  </tbody>\n",
       "</table>\n",
       "</div>"
      ],
      "text/plain": [
       "               Country  2Yrs Before Olympics  1Yr Before Olympics  \\\n",
       "economy                                                             \n",
       "GRC      Greece (2004)          14110.313365          18477.57836   \n",
       "\n",
       "         Olympic Year  1Yr After Olympics  2Yrs After Olympics  \n",
       "economy                                                         \n",
       "GRC      21955.104136        22551.735767         24801.157784  "
      ]
     },
     "execution_count": 35,
     "metadata": {},
     "output_type": "execute_result"
    }
   ],
   "source": [
    "# Pulling data from World Bank for Greece for 2002, 2003, 2004 (Olympic year), 2005, & 2006\n",
    "GRC_GDP_pC = wb.data.DataFrame('NY.GDP.PCAP.CD', ['GRC'], time = (range(2002, 2007)), labels = True)\n",
    "GRC_GDP_pC = GRC_GDP_pC.rename(columns = {'YR2002' : '2Yrs Before Olympics',\n",
    "                                                           'YR2003' : '1Yr Before Olympics',\n",
    "                                                           'YR2004' : 'Olympic Year',\n",
    "                                                           'YR2005' : '1Yr After Olympics',\n",
    "                                                           'YR2006' : '2Yrs After Olympics'})\n",
    "\n",
    "# Changing the cell from \"Greece\" to \"Greece(2004)\" to signify the year of the Olympics\n",
    "GRC_GDP_pC.at[:,'Country']='Greece (2004)'\n",
    "GRC_GDP_pC"
   ]
  },
  {
   "cell_type": "code",
   "execution_count": 36,
   "metadata": {},
   "outputs": [
    {
     "data": {
      "text/html": [
       "<div>\n",
       "<style scoped>\n",
       "    .dataframe tbody tr th:only-of-type {\n",
       "        vertical-align: middle;\n",
       "    }\n",
       "\n",
       "    .dataframe tbody tr th {\n",
       "        vertical-align: top;\n",
       "    }\n",
       "\n",
       "    .dataframe thead th {\n",
       "        text-align: right;\n",
       "    }\n",
       "</style>\n",
       "<table border=\"1\" class=\"dataframe\">\n",
       "  <thead>\n",
       "    <tr style=\"text-align: right;\">\n",
       "      <th></th>\n",
       "      <th>Country</th>\n",
       "      <th>2Yrs Before Olympics</th>\n",
       "      <th>1Yr Before Olympics</th>\n",
       "      <th>Olympic Year</th>\n",
       "      <th>1Yr After Olympics</th>\n",
       "      <th>2Yrs After Olympics</th>\n",
       "    </tr>\n",
       "    <tr>\n",
       "      <th>economy</th>\n",
       "      <th></th>\n",
       "      <th></th>\n",
       "      <th></th>\n",
       "      <th></th>\n",
       "      <th></th>\n",
       "      <th></th>\n",
       "    </tr>\n",
       "  </thead>\n",
       "  <tbody>\n",
       "    <tr>\n",
       "      <th>BRA</th>\n",
       "      <td>Brazil (2016)</td>\n",
       "      <td>12112.587668</td>\n",
       "      <td>8814.001418</td>\n",
       "      <td>8710.096774</td>\n",
       "      <td>9928.643063</td>\n",
       "      <td>9151.445253</td>\n",
       "    </tr>\n",
       "  </tbody>\n",
       "</table>\n",
       "</div>"
      ],
      "text/plain": [
       "               Country  2Yrs Before Olympics  1Yr Before Olympics  \\\n",
       "economy                                                             \n",
       "BRA      Brazil (2016)          12112.587668          8814.001418   \n",
       "\n",
       "         Olympic Year  1Yr After Olympics  2Yrs After Olympics  \n",
       "economy                                                         \n",
       "BRA       8710.096774         9928.643063          9151.445253  "
      ]
     },
     "execution_count": 36,
     "metadata": {},
     "output_type": "execute_result"
    }
   ],
   "source": [
    "# Pulling data from World Bank for Brazil for 2014, 2015, 2016 (Olympic year), 2017, 2018\n",
    "BRA_GDP_pC = wb.data.DataFrame('NY.GDP.PCAP.CD', ['BRA'], time = (range(2014, 2019)), labels = True)\n",
    "BRA_GDP_pC = BRA_GDP_pC.rename(columns = {'YR2014' : '2Yrs Before Olympics',\n",
    "                                                           'YR2015' : '1Yr Before Olympics',\n",
    "                                                           'YR2016' : 'Olympic Year',\n",
    "                                                           'YR2017' : '1Yr After Olympics',\n",
    "                                                           'YR2018' : '2Yrs After Olympics'})\n",
    "\n",
    "# Changing the cell from \"Brazil\" to Brazil (2016) to signify the year of the Olympics\n",
    "BRA_GDP_pC.at[:,'Country']='Brazil (2016)'\n",
    "BRA_GDP_pC"
   ]
  },
  {
   "cell_type": "code",
   "execution_count": 37,
   "metadata": {},
   "outputs": [
    {
     "data": {
      "text/html": [
       "<div>\n",
       "<style scoped>\n",
       "    .dataframe tbody tr th:only-of-type {\n",
       "        vertical-align: middle;\n",
       "    }\n",
       "\n",
       "    .dataframe tbody tr th {\n",
       "        vertical-align: top;\n",
       "    }\n",
       "\n",
       "    .dataframe thead th {\n",
       "        text-align: right;\n",
       "    }\n",
       "</style>\n",
       "<table border=\"1\" class=\"dataframe\">\n",
       "  <thead>\n",
       "    <tr style=\"text-align: right;\">\n",
       "      <th></th>\n",
       "      <th>Country</th>\n",
       "      <th>2Yrs Before Olympics</th>\n",
       "      <th>1Yr Before Olympics</th>\n",
       "      <th>Olympic Year</th>\n",
       "      <th>1Yr After Olympics</th>\n",
       "      <th>2Yrs After Olympics</th>\n",
       "    </tr>\n",
       "  </thead>\n",
       "  <tbody>\n",
       "    <tr>\n",
       "      <th>0</th>\n",
       "      <td>Greece (2004)</td>\n",
       "      <td>14110.313365</td>\n",
       "      <td>18477.578360</td>\n",
       "      <td>21955.104136</td>\n",
       "      <td>22551.735767</td>\n",
       "      <td>24801.157784</td>\n",
       "    </tr>\n",
       "    <tr>\n",
       "      <th>1</th>\n",
       "      <td>United Kingdom (2012)</td>\n",
       "      <td>39536.772681</td>\n",
       "      <td>42047.614252</td>\n",
       "      <td>42449.107666</td>\n",
       "      <td>43401.310530</td>\n",
       "      <td>47452.199137</td>\n",
       "    </tr>\n",
       "    <tr>\n",
       "      <th>2</th>\n",
       "      <td>Brazil (2016)</td>\n",
       "      <td>12112.587668</td>\n",
       "      <td>8814.001418</td>\n",
       "      <td>8710.096774</td>\n",
       "      <td>9928.643063</td>\n",
       "      <td>9151.445253</td>\n",
       "    </tr>\n",
       "  </tbody>\n",
       "</table>\n",
       "</div>"
      ],
      "text/plain": [
       "                 Country  2Yrs Before Olympics  1Yr Before Olympics  \\\n",
       "0          Greece (2004)          14110.313365         18477.578360   \n",
       "1  United Kingdom (2012)          39536.772681         42047.614252   \n",
       "2          Brazil (2016)          12112.587668          8814.001418   \n",
       "\n",
       "   Olympic Year  1Yr After Olympics  2Yrs After Olympics  \n",
       "0  21955.104136        22551.735767         24801.157784  \n",
       "1  42449.107666        43401.310530         47452.199137  \n",
       "2   8710.096774         9928.643063          9151.445253  "
      ]
     },
     "execution_count": 37,
     "metadata": {},
     "output_type": "execute_result"
    }
   ],
   "source": [
    "# Appending DataFrames into one\n",
    "GDP_pC_a = GRC_GDP_pC.append(GBR_GDP_pC)\n",
    "GDP_pC = GDP_pC_a.append(BRA_GDP_pC).reset_index(drop = True)\n",
    "GDP_pC"
   ]
  },
  {
   "cell_type": "code",
   "execution_count": 38,
   "metadata": {},
   "outputs": [
    {
     "data": {
      "image/png": "[encoded data removed]",
      "text/plain": [
       "<Figure size 936x576 with 1 Axes>"
      ]
     },
     "metadata": {
      "needs_background": "light"
     },
     "output_type": "display_data"
    },
    {
     "data": {
      "text/plain": [
       "<Figure size 432x288 with 0 Axes>"
      ]
     },
     "metadata": {},
     "output_type": "display_data"
    }
   ],
   "source": [
    "# Plotting bargraph for GDP per Capita of host countries\n",
    "GDP_pC_Bargraph = GDP_pC.plot.bar(x = 'Country', figsize = (13, 8))\n",
    "plt.xticks(rotation = 0)\n",
    "plt.xlabel('')\n",
    "plt.ylabel('GDP ($USD)')\n",
    "plt.title(\"GDP per Capita of Previous Olympic Host Countries\")\n",
    "plt.grid()\n",
    "plt.show()\n",
    "plt.savefig(\"GDP_per_Capita_previous_olympic_host.png\")"
   ]
  },
  {
   "cell_type": "markdown",
   "metadata": {},
   "source": [
    "# Pulling data via wbgapi for Annual Consumer Price Inflation (%)"
   ]
  },
  {
   "cell_type": "code",
   "execution_count": 39,
   "metadata": {},
   "outputs": [
    {
     "data": {
      "text/html": [
       "<div>\n",
       "<style scoped>\n",
       "    .dataframe tbody tr th:only-of-type {\n",
       "        vertical-align: middle;\n",
       "    }\n",
       "\n",
       "    .dataframe tbody tr th {\n",
       "        vertical-align: top;\n",
       "    }\n",
       "\n",
       "    .dataframe thead th {\n",
       "        text-align: right;\n",
       "    }\n",
       "</style>\n",
       "<table border=\"1\" class=\"dataframe\">\n",
       "  <thead>\n",
       "    <tr style=\"text-align: right;\">\n",
       "      <th></th>\n",
       "      <th>Country</th>\n",
       "      <th>2Yrs Before Olympics</th>\n",
       "      <th>1Yr Before Olympics</th>\n",
       "      <th>Olympic Year</th>\n",
       "      <th>1Yr After Olympics</th>\n",
       "      <th>2Yrs After Olympics</th>\n",
       "    </tr>\n",
       "    <tr>\n",
       "      <th>economy</th>\n",
       "      <th></th>\n",
       "      <th></th>\n",
       "      <th></th>\n",
       "      <th></th>\n",
       "      <th></th>\n",
       "      <th></th>\n",
       "    </tr>\n",
       "  </thead>\n",
       "  <tbody>\n",
       "    <tr>\n",
       "      <th>GBR</th>\n",
       "      <td>United Kingdom (2012)</td>\n",
       "      <td>2.492655</td>\n",
       "      <td>3.856112</td>\n",
       "      <td>2.573235</td>\n",
       "      <td>2.291667</td>\n",
       "      <td>1.45112</td>\n",
       "    </tr>\n",
       "  </tbody>\n",
       "</table>\n",
       "</div>"
      ],
      "text/plain": [
       "                       Country  2Yrs Before Olympics  1Yr Before Olympics  \\\n",
       "economy                                                                     \n",
       "GBR      United Kingdom (2012)              2.492655             3.856112   \n",
       "\n",
       "         Olympic Year  1Yr After Olympics  2Yrs After Olympics  \n",
       "economy                                                         \n",
       "GBR          2.573235            2.291667              1.45112  "
      ]
     },
     "execution_count": 39,
     "metadata": {},
     "output_type": "execute_result"
    }
   ],
   "source": [
    "# Pulling data from World Bank for United Kingdom for 2010, 2011, 2012 (olympic year), 2013, & 2014\n",
    "GBR_CnsmrInfl = wb.data.DataFrame('FP.CPI.TOTL.ZG', ['GBR'], time = (range(2010, 2015)), labels = True)\n",
    "GBR_CnsmrInfl = GBR_CnsmrInfl.rename(columns = {'YR2010' : '2Yrs Before Olympics',\n",
    "                                                           'YR2011' : '1Yr Before Olympics',\n",
    "                                                           'YR2012' : 'Olympic Year',\n",
    "                                                           'YR2013' : '1Yr After Olympics',\n",
    "                                                           'YR2014' : '2Yrs After Olympics'})\n",
    "\n",
    "# Changing the cell from \"United Kingdom\" to \"United Kingdom (2012)\" to signify the year of the Olympics\n",
    "GBR_CnsmrInfl.at[:,'Country']='United Kingdom (2012)'\n",
    "GBR_CnsmrInfl"
   ]
  },
  {
   "cell_type": "code",
   "execution_count": 40,
   "metadata": {},
   "outputs": [
    {
     "data": {
      "text/html": [
       "<div>\n",
       "<style scoped>\n",
       "    .dataframe tbody tr th:only-of-type {\n",
       "        vertical-align: middle;\n",
       "    }\n",
       "\n",
       "    .dataframe tbody tr th {\n",
       "        vertical-align: top;\n",
       "    }\n",
       "\n",
       "    .dataframe thead th {\n",
       "        text-align: right;\n",
       "    }\n",
       "</style>\n",
       "<table border=\"1\" class=\"dataframe\">\n",
       "  <thead>\n",
       "    <tr style=\"text-align: right;\">\n",
       "      <th></th>\n",
       "      <th>Country</th>\n",
       "      <th>2Yrs Before Olympics</th>\n",
       "      <th>1Yr Before Olympics</th>\n",
       "      <th>Olympic Year</th>\n",
       "      <th>1Yr After Olympics</th>\n",
       "      <th>2Yrs After Olympics</th>\n",
       "    </tr>\n",
       "    <tr>\n",
       "      <th>economy</th>\n",
       "      <th></th>\n",
       "      <th></th>\n",
       "      <th></th>\n",
       "      <th></th>\n",
       "      <th></th>\n",
       "      <th></th>\n",
       "    </tr>\n",
       "  </thead>\n",
       "  <tbody>\n",
       "    <tr>\n",
       "      <th>GRC</th>\n",
       "      <td>Greece (2004)</td>\n",
       "      <td>3.629359</td>\n",
       "      <td>3.530652</td>\n",
       "      <td>2.898849</td>\n",
       "      <td>3.545074</td>\n",
       "      <td>3.195944</td>\n",
       "    </tr>\n",
       "  </tbody>\n",
       "</table>\n",
       "</div>"
      ],
      "text/plain": [
       "               Country  2Yrs Before Olympics  1Yr Before Olympics  \\\n",
       "economy                                                             \n",
       "GRC      Greece (2004)              3.629359             3.530652   \n",
       "\n",
       "         Olympic Year  1Yr After Olympics  2Yrs After Olympics  \n",
       "economy                                                         \n",
       "GRC          2.898849            3.545074             3.195944  "
      ]
     },
     "execution_count": 40,
     "metadata": {},
     "output_type": "execute_result"
    }
   ],
   "source": [
    "# Pulling data from World Bank for Greece for 2002, 2003, 2004 (Olympic year), 2005, & 2006\n",
    "GRC_CnsmrInfl = wb.data.DataFrame('FP.CPI.TOTL.ZG', ['GRC'], time = (range(2002, 2007)), labels = True)\n",
    "GRC_CnsmrInfl = GRC_CnsmrInfl.rename(columns = {'YR2002' : '2Yrs Before Olympics',\n",
    "                                                'YR2003' : '1Yr Before Olympics',\n",
    "                                                'YR2004' : 'Olympic Year',\n",
    "                                                'YR2005' : '1Yr After Olympics',\n",
    "                                                'YR2006' : '2Yrs After Olympics'})\n",
    "\n",
    "\n",
    "# Changing the cell from \"Greece\" to \"Greece(2004)\" to signify the year of the Olympics\n",
    "GRC_CnsmrInfl.at[:,'Country']='Greece (2004)'\n",
    "GRC_CnsmrInfl"
   ]
  },
  {
   "cell_type": "code",
   "execution_count": 41,
   "metadata": {},
   "outputs": [
    {
     "data": {
      "text/html": [
       "<div>\n",
       "<style scoped>\n",
       "    .dataframe tbody tr th:only-of-type {\n",
       "        vertical-align: middle;\n",
       "    }\n",
       "\n",
       "    .dataframe tbody tr th {\n",
       "        vertical-align: top;\n",
       "    }\n",
       "\n",
       "    .dataframe thead th {\n",
       "        text-align: right;\n",
       "    }\n",
       "</style>\n",
       "<table border=\"1\" class=\"dataframe\">\n",
       "  <thead>\n",
       "    <tr style=\"text-align: right;\">\n",
       "      <th></th>\n",
       "      <th>Country</th>\n",
       "      <th>2Yrs Before Olympics</th>\n",
       "      <th>1Yr Before Olympics</th>\n",
       "      <th>Olympic Year</th>\n",
       "      <th>1Yr After Olympics</th>\n",
       "      <th>2Yrs After Olympics</th>\n",
       "    </tr>\n",
       "    <tr>\n",
       "      <th>economy</th>\n",
       "      <th></th>\n",
       "      <th></th>\n",
       "      <th></th>\n",
       "      <th></th>\n",
       "      <th></th>\n",
       "      <th></th>\n",
       "    </tr>\n",
       "  </thead>\n",
       "  <tbody>\n",
       "    <tr>\n",
       "      <th>BRA</th>\n",
       "      <td>Brazil (2016)</td>\n",
       "      <td>6.32904</td>\n",
       "      <td>9.029901</td>\n",
       "      <td>8.739144</td>\n",
       "      <td>3.446373</td>\n",
       "      <td>3.66485</td>\n",
       "    </tr>\n",
       "  </tbody>\n",
       "</table>\n",
       "</div>"
      ],
      "text/plain": [
       "               Country  2Yrs Before Olympics  1Yr Before Olympics  \\\n",
       "economy                                                             \n",
       "BRA      Brazil (2016)               6.32904             9.029901   \n",
       "\n",
       "         Olympic Year  1Yr After Olympics  2Yrs After Olympics  \n",
       "economy                                                         \n",
       "BRA          8.739144            3.446373              3.66485  "
      ]
     },
     "execution_count": 41,
     "metadata": {},
     "output_type": "execute_result"
    }
   ],
   "source": [
    "# Pulling data from World Bank for Brazil for 2014, 2015, 2016 (Olympic year), 2017, 2018\n",
    "BRA_CnsmrInfl = wb.data.DataFrame('FP.CPI.TOTL.ZG', ['BRA'], time = (range(2014, 2019)), labels = True)\n",
    "BRA_CnsmrInfl = BRA_CnsmrInfl.rename(columns = {'YR2014' : '2Yrs Before Olympics',\n",
    "                                                           'YR2015' : '1Yr Before Olympics',\n",
    "                                                           'YR2016' : 'Olympic Year',\n",
    "                                                           'YR2017' : '1Yr After Olympics',\n",
    "                                                           'YR2018' : '2Yrs After Olympics'})\n",
    "\n",
    "# Changing the cell from \"Brazil\" to Brazil (2016) to signify the year of the Olympics\n",
    "BRA_CnsmrInfl.at[:,'Country']='Brazil (2016)'\n",
    "BRA_CnsmrInfl"
   ]
  },
  {
   "cell_type": "code",
   "execution_count": 42,
   "metadata": {},
   "outputs": [
    {
     "data": {
      "text/html": [
       "<div>\n",
       "<style scoped>\n",
       "    .dataframe tbody tr th:only-of-type {\n",
       "        vertical-align: middle;\n",
       "    }\n",
       "\n",
       "    .dataframe tbody tr th {\n",
       "        vertical-align: top;\n",
       "    }\n",
       "\n",
       "    .dataframe thead th {\n",
       "        text-align: right;\n",
       "    }\n",
       "</style>\n",
       "<table border=\"1\" class=\"dataframe\">\n",
       "  <thead>\n",
       "    <tr style=\"text-align: right;\">\n",
       "      <th></th>\n",
       "      <th>Country</th>\n",
       "      <th>2Yrs Before Olympics</th>\n",
       "      <th>1Yr Before Olympics</th>\n",
       "      <th>Olympic Year</th>\n",
       "      <th>1Yr After Olympics</th>\n",
       "      <th>2Yrs After Olympics</th>\n",
       "    </tr>\n",
       "  </thead>\n",
       "  <tbody>\n",
       "    <tr>\n",
       "      <th>0</th>\n",
       "      <td>Greece (2004)</td>\n",
       "      <td>3.629359</td>\n",
       "      <td>3.530652</td>\n",
       "      <td>2.898849</td>\n",
       "      <td>3.545074</td>\n",
       "      <td>3.195944</td>\n",
       "    </tr>\n",
       "    <tr>\n",
       "      <th>1</th>\n",
       "      <td>United Kingdom (2012)</td>\n",
       "      <td>2.492655</td>\n",
       "      <td>3.856112</td>\n",
       "      <td>2.573235</td>\n",
       "      <td>2.291667</td>\n",
       "      <td>1.451120</td>\n",
       "    </tr>\n",
       "    <tr>\n",
       "      <th>2</th>\n",
       "      <td>Brazil (2016)</td>\n",
       "      <td>6.329040</td>\n",
       "      <td>9.029901</td>\n",
       "      <td>8.739144</td>\n",
       "      <td>3.446373</td>\n",
       "      <td>3.664850</td>\n",
       "    </tr>\n",
       "  </tbody>\n",
       "</table>\n",
       "</div>"
      ],
      "text/plain": [
       "                 Country  2Yrs Before Olympics  1Yr Before Olympics  \\\n",
       "0          Greece (2004)              3.629359             3.530652   \n",
       "1  United Kingdom (2012)              2.492655             3.856112   \n",
       "2          Brazil (2016)              6.329040             9.029901   \n",
       "\n",
       "   Olympic Year  1Yr After Olympics  2Yrs After Olympics  \n",
       "0      2.898849            3.545074             3.195944  \n",
       "1      2.573235            2.291667             1.451120  \n",
       "2      8.739144            3.446373             3.664850  "
      ]
     },
     "execution_count": 42,
     "metadata": {},
     "output_type": "execute_result"
    }
   ],
   "source": [
    "# Appending DataFrames into one\n",
    "CnsmrInfl_a = GRC_CnsmrInfl.append(GBR_CnsmrInfl)\n",
    "CnsmrInfl = CnsmrInfl_a.append(BRA_CnsmrInfl).reset_index(drop = True)\n",
    "CnsmrInfl"
   ]
  },
  {
   "cell_type": "code",
   "execution_count": 43,
   "metadata": {},
   "outputs": [
    {
     "data": {
      "image/png": "[encoded data removed]",
      "text/plain": [
       "<Figure size 936x360 with 1 Axes>"
      ]
     },
     "metadata": {
      "needs_background": "light"
     },
     "output_type": "display_data"
    },
    {
     "data": {
      "text/plain": [
       "<Figure size 432x288 with 0 Axes>"
      ]
     },
     "metadata": {},
     "output_type": "display_data"
    }
   ],
   "source": [
    "# Plotting bargraph for Consumer Price Inflation of host countries\n",
    "Infl_Bargraph = CnsmrInfl.plot.bar(x = 'Country', figsize = (13, 5))\n",
    "plt.xticks(rotation = 0)\n",
    "plt.xlabel('')\n",
    "plt.ylabel('Consumer Price Inflation (Annual %)')\n",
    "plt.title('Consumer Price Inflation of Previous Olympic Host Countries')\n",
    "plt.grid()\n",
    "plt.show()\n",
    "plt.savefig(\"Inflation_previous_olympic_host.png\")"
   ]
  },
  {
   "cell_type": "markdown",
   "metadata": {},
   "source": [
    "# Pulling data via wbgapi for Annual Industrial Growth (% of GDP)"
   ]
  },
  {
   "cell_type": "code",
   "execution_count": 44,
   "metadata": {},
   "outputs": [
    {
     "data": {
      "text/html": [
       "<div>\n",
       "<style scoped>\n",
       "    .dataframe tbody tr th:only-of-type {\n",
       "        vertical-align: middle;\n",
       "    }\n",
       "\n",
       "    .dataframe tbody tr th {\n",
       "        vertical-align: top;\n",
       "    }\n",
       "\n",
       "    .dataframe thead th {\n",
       "        text-align: right;\n",
       "    }\n",
       "</style>\n",
       "<table border=\"1\" class=\"dataframe\">\n",
       "  <thead>\n",
       "    <tr style=\"text-align: right;\">\n",
       "      <th></th>\n",
       "      <th>Country</th>\n",
       "      <th>2Yrs Before Olympics</th>\n",
       "      <th>1Yr Before Olympics</th>\n",
       "      <th>Olympic Year</th>\n",
       "      <th>1Yr After Olympics</th>\n",
       "      <th>2Yrs After Olympics</th>\n",
       "    </tr>\n",
       "    <tr>\n",
       "      <th>economy</th>\n",
       "      <th></th>\n",
       "      <th></th>\n",
       "      <th></th>\n",
       "      <th></th>\n",
       "      <th></th>\n",
       "      <th></th>\n",
       "    </tr>\n",
       "  </thead>\n",
       "  <tbody>\n",
       "    <tr>\n",
       "      <th>GBR</th>\n",
       "      <td>United Kingdom (2012)</td>\n",
       "      <td>18.991835</td>\n",
       "      <td>18.716302</td>\n",
       "      <td>18.690537</td>\n",
       "      <td>18.931033</td>\n",
       "      <td>18.547156</td>\n",
       "    </tr>\n",
       "  </tbody>\n",
       "</table>\n",
       "</div>"
      ],
      "text/plain": [
       "                       Country  2Yrs Before Olympics  1Yr Before Olympics  \\\n",
       "economy                                                                     \n",
       "GBR      United Kingdom (2012)             18.991835            18.716302   \n",
       "\n",
       "         Olympic Year  1Yr After Olympics  2Yrs After Olympics  \n",
       "economy                                                         \n",
       "GBR         18.690537           18.931033            18.547156  "
      ]
     },
     "execution_count": 44,
     "metadata": {},
     "output_type": "execute_result"
    }
   ],
   "source": [
    "# Pulling data from World Bank for United Kingdom for 2010, 2011, 2012 (olympic year), 2013, & 2014\n",
    "GBR_Industry = wb.data.DataFrame('NV.IND.TOTL.ZS', ['GBR'], time = (range(2010, 2015)), labels = True)\n",
    "GBR_Industry = GBR_Industry.rename(columns = {'YR2010' : '2Yrs Before Olympics',\n",
    "                                                           'YR2011' : '1Yr Before Olympics',\n",
    "                                                           'YR2012' : 'Olympic Year',\n",
    "                                                           'YR2013' : '1Yr After Olympics',\n",
    "                                                           'YR2014' : '2Yrs After Olympics'})\n",
    "\n",
    "# Changing the cell from \"United Kingdom\" to \"United Kingdom (2012)\" to signify the year of the Olympics\n",
    "GBR_Industry.at[:,'Country']='United Kingdom (2012)'\n",
    "GBR_Industry"
   ]
  },
  {
   "cell_type": "code",
   "execution_count": 45,
   "metadata": {},
   "outputs": [
    {
     "data": {
      "text/html": [
       "<div>\n",
       "<style scoped>\n",
       "    .dataframe tbody tr th:only-of-type {\n",
       "        vertical-align: middle;\n",
       "    }\n",
       "\n",
       "    .dataframe tbody tr th {\n",
       "        vertical-align: top;\n",
       "    }\n",
       "\n",
       "    .dataframe thead th {\n",
       "        text-align: right;\n",
       "    }\n",
       "</style>\n",
       "<table border=\"1\" class=\"dataframe\">\n",
       "  <thead>\n",
       "    <tr style=\"text-align: right;\">\n",
       "      <th></th>\n",
       "      <th>Country</th>\n",
       "      <th>2Yrs Before Olympics</th>\n",
       "      <th>1Yr Before Olympics</th>\n",
       "      <th>Olympic Year</th>\n",
       "      <th>1Yr After Olympics</th>\n",
       "      <th>2Yrs After Olympics</th>\n",
       "    </tr>\n",
       "    <tr>\n",
       "      <th>economy</th>\n",
       "      <th></th>\n",
       "      <th></th>\n",
       "      <th></th>\n",
       "      <th></th>\n",
       "      <th></th>\n",
       "      <th></th>\n",
       "    </tr>\n",
       "  </thead>\n",
       "  <tbody>\n",
       "    <tr>\n",
       "      <th>GRC</th>\n",
       "      <td>Greece (2004)</td>\n",
       "      <td>19.438722</td>\n",
       "      <td>20.517517</td>\n",
       "      <td>20.344019</td>\n",
       "      <td>17.80449</td>\n",
       "      <td>19.987243</td>\n",
       "    </tr>\n",
       "  </tbody>\n",
       "</table>\n",
       "</div>"
      ],
      "text/plain": [
       "               Country  2Yrs Before Olympics  1Yr Before Olympics  \\\n",
       "economy                                                             \n",
       "GRC      Greece (2004)             19.438722            20.517517   \n",
       "\n",
       "         Olympic Year  1Yr After Olympics  2Yrs After Olympics  \n",
       "economy                                                         \n",
       "GRC         20.344019            17.80449            19.987243  "
      ]
     },
     "execution_count": 45,
     "metadata": {},
     "output_type": "execute_result"
    }
   ],
   "source": [
    "# Pulling data from World Bank for Greece for 2002, 2003, 2004 (Olympic year), 2005, & 2006\n",
    "GRC_Industry = wb.data.DataFrame('NV.IND.TOTL.ZS', ['GRC'], time = (range(2002, 2007)), labels = True)\n",
    "GRC_Industry = GRC_Industry.rename(columns = {'YR2002' : '2Yrs Before Olympics',\n",
    "                                                'YR2003' : '1Yr Before Olympics',\n",
    "                                                'YR2004' : 'Olympic Year',\n",
    "                                                'YR2005' : '1Yr After Olympics',\n",
    "                                                'YR2006' : '2Yrs After Olympics'})\n",
    "\n",
    "# Changing the cell from \"Greece\" to \"Greece(2004)\" to signify the year of the Olympics\n",
    "GRC_Industry.at[:,'Country']='Greece (2004)'\n",
    "GRC_Industry"
   ]
  },
  {
   "cell_type": "code",
   "execution_count": 46,
   "metadata": {},
   "outputs": [
    {
     "data": {
      "text/html": [
       "<div>\n",
       "<style scoped>\n",
       "    .dataframe tbody tr th:only-of-type {\n",
       "        vertical-align: middle;\n",
       "    }\n",
       "\n",
       "    .dataframe tbody tr th {\n",
       "        vertical-align: top;\n",
       "    }\n",
       "\n",
       "    .dataframe thead th {\n",
       "        text-align: right;\n",
       "    }\n",
       "</style>\n",
       "<table border=\"1\" class=\"dataframe\">\n",
       "  <thead>\n",
       "    <tr style=\"text-align: right;\">\n",
       "      <th></th>\n",
       "      <th>Country</th>\n",
       "      <th>2Yrs Before Olympics</th>\n",
       "      <th>1Yr Before Olympics</th>\n",
       "      <th>Olympic Year</th>\n",
       "      <th>1Yr After Olympics</th>\n",
       "      <th>2Yrs After Olympics</th>\n",
       "    </tr>\n",
       "    <tr>\n",
       "      <th>economy</th>\n",
       "      <th></th>\n",
       "      <th></th>\n",
       "      <th></th>\n",
       "      <th></th>\n",
       "      <th></th>\n",
       "      <th></th>\n",
       "    </tr>\n",
       "  </thead>\n",
       "  <tbody>\n",
       "    <tr>\n",
       "      <th>BRA</th>\n",
       "      <td>Brazil (2016)</td>\n",
       "      <td>20.472463</td>\n",
       "      <td>19.360044</td>\n",
       "      <td>18.354758</td>\n",
       "      <td>18.188502</td>\n",
       "      <td>18.749051</td>\n",
       "    </tr>\n",
       "  </tbody>\n",
       "</table>\n",
       "</div>"
      ],
      "text/plain": [
       "               Country  2Yrs Before Olympics  1Yr Before Olympics  \\\n",
       "economy                                                             \n",
       "BRA      Brazil (2016)             20.472463            19.360044   \n",
       "\n",
       "         Olympic Year  1Yr After Olympics  2Yrs After Olympics  \n",
       "economy                                                         \n",
       "BRA         18.354758           18.188502            18.749051  "
      ]
     },
     "execution_count": 46,
     "metadata": {},
     "output_type": "execute_result"
    }
   ],
   "source": [
    "# Pulling data from World Bank for Brazil for 2014, 2015, 2016 (Olympic year), 2017, 2018\n",
    "BRA_Industry = wb.data.DataFrame('NV.IND.TOTL.ZS', ['BRA'], time = (range(2014, 2019)), labels = True)\n",
    "BRA_Industry = BRA_Industry.rename(columns = {'YR2014' : '2Yrs Before Olympics',\n",
    "                                                           'YR2015' : '1Yr Before Olympics',\n",
    "                                                           'YR2016' : 'Olympic Year',\n",
    "                                                           'YR2017' : '1Yr After Olympics',\n",
    "                                                           'YR2018' : '2Yrs After Olympics'})\n",
    "\n",
    "# Changing the cell from \"Brazil\" to Brazil (2016) to signify the year of the Olympics\n",
    "BRA_Industry.at[:,'Country']='Brazil (2016)'\n",
    "BRA_Industry"
   ]
  },
  {
   "cell_type": "code",
   "execution_count": 47,
   "metadata": {},
   "outputs": [
    {
     "data": {
      "text/html": [
       "<div>\n",
       "<style scoped>\n",
       "    .dataframe tbody tr th:only-of-type {\n",
       "        vertical-align: middle;\n",
       "    }\n",
       "\n",
       "    .dataframe tbody tr th {\n",
       "        vertical-align: top;\n",
       "    }\n",
       "\n",
       "    .dataframe thead th {\n",
       "        text-align: right;\n",
       "    }\n",
       "</style>\n",
       "<table border=\"1\" class=\"dataframe\">\n",
       "  <thead>\n",
       "    <tr style=\"text-align: right;\">\n",
       "      <th></th>\n",
       "      <th>Country</th>\n",
       "      <th>2Yrs Before Olympics</th>\n",
       "      <th>1Yr Before Olympics</th>\n",
       "      <th>Olympic Year</th>\n",
       "      <th>1Yr After Olympics</th>\n",
       "      <th>2Yrs After Olympics</th>\n",
       "    </tr>\n",
       "  </thead>\n",
       "  <tbody>\n",
       "    <tr>\n",
       "      <th>0</th>\n",
       "      <td>Greece (2004)</td>\n",
       "      <td>19.438722</td>\n",
       "      <td>20.517517</td>\n",
       "      <td>20.344019</td>\n",
       "      <td>17.804490</td>\n",
       "      <td>19.987243</td>\n",
       "    </tr>\n",
       "    <tr>\n",
       "      <th>1</th>\n",
       "      <td>United Kingdom (2012)</td>\n",
       "      <td>2.492655</td>\n",
       "      <td>3.856112</td>\n",
       "      <td>2.573235</td>\n",
       "      <td>2.291667</td>\n",
       "      <td>1.451120</td>\n",
       "    </tr>\n",
       "    <tr>\n",
       "      <th>2</th>\n",
       "      <td>Brazil (2016)</td>\n",
       "      <td>6.329040</td>\n",
       "      <td>9.029901</td>\n",
       "      <td>8.739144</td>\n",
       "      <td>3.446373</td>\n",
       "      <td>3.664850</td>\n",
       "    </tr>\n",
       "  </tbody>\n",
       "</table>\n",
       "</div>"
      ],
      "text/plain": [
       "                 Country  2Yrs Before Olympics  1Yr Before Olympics  \\\n",
       "0          Greece (2004)             19.438722            20.517517   \n",
       "1  United Kingdom (2012)              2.492655             3.856112   \n",
       "2          Brazil (2016)              6.329040             9.029901   \n",
       "\n",
       "   Olympic Year  1Yr After Olympics  2Yrs After Olympics  \n",
       "0     20.344019           17.804490            19.987243  \n",
       "1      2.573235            2.291667             1.451120  \n",
       "2      8.739144            3.446373             3.664850  "
      ]
     },
     "execution_count": 47,
     "metadata": {},
     "output_type": "execute_result"
    }
   ],
   "source": [
    "# Appending DataFrames into one\n",
    "Industry_a = GRC_Industry.append(GBR_CnsmrInfl)\n",
    "Industry = Industry_a.append(BRA_CnsmrInfl).reset_index(drop = True)\n",
    "Industry"
   ]
  },
  {
   "cell_type": "code",
   "execution_count": 50,
   "metadata": {},
   "outputs": [
    {
     "data": {
      "image/png": "[encoded data removed]",
      "text/plain": [
       "<Figure size 936x360 with 1 Axes>"
      ]
     },
     "metadata": {
      "needs_background": "light"
     },
     "output_type": "display_data"
    },
    {
     "data": {
      "text/plain": [
       "<Figure size 432x288 with 0 Axes>"
      ]
     },
     "metadata": {},
     "output_type": "display_data"
    }
   ],
   "source": [
    "# Plotting bargraph for annualIndustrial Growth of host countries\n",
    "Industry_Bargraph = Industry.plot.bar(x = 'Country', figsize = (13, 5))\n",
    "plt.xticks(rotation = 0)\n",
    "plt.xlabel('')\n",
    "plt.ylabel('Industry Added (% of GDP)')\n",
    "plt.title('Industry Added of Previous Olympic Host Countries')\n",
    "plt.grid()\n",
    "plt.show()\n",
    "plt.savefig(\"Industry_previous_olympic_host.png\")"
   ]
  },
  {
   "cell_type": "markdown",
   "metadata": {},
   "source": [
    "#  Analysis and Conclusion"
   ]
  },
  {
   "cell_type": "markdown",
   "metadata": {},
   "source": [
    "The question our group posed was to see if there were any effects from the hosting the Summer Olympics.  Brazil hosted the Summer Olympics in 2016 in Rio de Janeiro.  I used some historic data prior to 2016 and data form post-2016 Summer Olympic for the analysis.  In addition, I compared data from two other Summer Olympic host countries (Greece - 2004 Summer Olympics and United Kingdom - 2012 Summer Olympics) as control data.  By creating grouped bar charts, I can easily visualize how each host country's economic metric, and make a high level analysis and conclusion based on them.  \n",
    "\n",
    "* Sub question 1: Was Brazil's economy affected by hosting the 2016 Rio de Janeiro Summer Olympics?\n",
    "A country's GDP (Gross Domestic Product) is a metric used to gauge its overall economic health.  GDP is basically the entire monetary value of a nation's goods and services produced within its boarders.\n",
    "\n",
    "Comparing three host countries (Athens, Greece in 2004; London, UK in 2012; and Rio de Janeiro in 2016) we can theorize if there are any relationship between hosting the Olympics and the economy of the host country.  GDP data from all three cities suggest that GDP was on a upward trend the first two years prior to the Olympics for Greece and the UK.  Brazil was on a severe downward trend but then stablized and moved upward leading up to the Olympics in 2016 in Rio.  Domestic economic activity increases before the Olympics due to fiscal policies/reforms and an increase of products and services produced specifically for the Olympics (i.e. new construction for transporation, housing, increase in leisure services, etc...).  Looking at GDP per Capita, shows how much the citizens in each how country is prospering.  Greece and the UK are showing trends of increased prosperity, but Brazil points to a decrease in prosperity after the Olympics.  Government polices could be a major factor in wealth growth, but after the Olympics all countries see some increase in their prosperity.  It seems that the overall economy in Brazil was affected prior to and into the start of the Olympics in a positve way.\n",
    "\n",
    "\n",
    "* Sub question 2: Was Brazil's economy better or worse than other nations that hosted the Summer Olympics?\n",
    "Additional metrics to gauge the overall health of an Olympic host country's economy, is how well their industrial complex is performing and if inflation is under control.  In this analysis, I also pulled data on Annual Percentage of Consumer Price Inflation and Annual Industrial Added Value (as a percentage of GDP) for each host nation.  These two metrics can reveal if inflation has been managed and the country can maintain its industrial momentum post Olympics.  Industry Added Value will show how much industry is spending on employees, raw materials, services and taxes.  Consumer Price Inflation will gauge the monetary policies of the country to control inflation and deflation.  All three host nations have seen decrease in industrial value added to its GDP.  Consumer Price Inflation has also been decreasing overall for the host nations as well.  However, based on the data, Brazil has the biggest change in their industry and in consumer price inflation.  After the Olympics, Brazil saw a steep decline in inflation and in Industrial added value.  The Olympics did give a boost to the country's overall economy, but for Brazil, it was short lived.  Other countries show a trend to increased prosperity, but Brazil has seen a decline in their overall economy two years after the Olympics in Rio de Janeiro.  Many factors such as goverment policies regarding their economy and other fiscal policies may have played a larger role, but it appears that the Olympics in Rio de Janeiro only helped Brazil a little bit."
   ]
  }
 ],
 "metadata": {
  "kernelspec": {
   "display_name": "Python 3",
   "language": "python",
   "name": "python3"
  },
  "language_info": {
   "codemirror_mode": {
    "name": "ipython",
    "version": 3
   },
   "file_extension": ".py",
   "mimetype": "text/x-python",
   "name": "python",
   "nbconvert_exporter": "python",
   "pygments_lexer": "ipython3",
   "version": "3.8.5"
  }
 },
 "nbformat": 4,
 "nbformat_minor": 4
}
