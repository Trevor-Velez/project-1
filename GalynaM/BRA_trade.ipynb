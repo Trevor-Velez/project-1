{
 "cells": [
  {
   "cell_type": "code",
   "execution_count": 1,
   "metadata": {},
   "outputs": [],
   "source": [
    "import pandas as pd\n",
    "import world_trade_data as wits\n",
    "import requests"
   ]
  },
  {
   "cell_type": "code",
   "execution_count": 2,
   "metadata": {},
   "outputs": [
    {
     "data": {
      "text/plain": [
       "[127722340.412,\n",
       " 181768424.09,\n",
       " 226246755.801,\n",
       " 223183474.672,\n",
       " 239747515.987,\n",
       " 229154460.893,\n",
       " 171446211.662,\n",
       " 137552002.466,\n",
       " 150749493.921,\n",
       " 181230498.358,\n",
       " 177347934.749]"
      ]
     },
     "execution_count": 2,
     "metadata": {},
     "output_type": "execute_result"
    }
   ],
   "source": [
    "# Specify years of interest\n",
    "years = [2009, 2010, 2011, 2012, 2013, 2014, 2015, 2016, 2017, 2018, 2019]\n",
    "\n",
    "bra_imports = []\n",
    "bra_exports = []\n",
    "\n",
    "for year in years:\n",
    "    \n",
    "    # To begin with, we request the values for the corresponding import and exports.\n",
    "    # Here, we use the default value for partner='wld', and the default value for product='all'.\n",
    "    curr_imp = wits.get_indicator('MPRT-TRD-VL', reporter='bra', year=f'{year}')\n",
    "    curr_exp = wits.get_indicator('XPRT-TRD-VL', reporter='bra', year=f'{year}')\n",
    "    \n",
    "    # Remove the first levels of the index\n",
    "    curr_imp = curr_imp.loc['Annual'].loc['Brazil'].loc['World']\n",
    "    curr_exp = curr_exp.loc['Annual'].loc['Brazil'].loc['World']\n",
    "    \n",
    "    # Rebind Multi level df.index to the ProductCode\n",
    "    curr_imp.index = curr_imp.index.get_level_values(0)\n",
    "    curr_exp.index = curr_exp.index.get_level_values(0)\n",
    "    \n",
    "    # Get Values for total import/export for the year    \n",
    "    imp = curr_imp.loc[\"All Products\"]['Value']\n",
    "    exp = curr_exp.loc[\"All Products\"]['Value']\n",
    "    \n",
    "    bra_imports.append(imp)\n",
    "    bra_exports.append(exp)\n",
    "\n",
    "bra_imports"
   ]
  },
  {
   "cell_type": "code",
   "execution_count": 4,
   "metadata": {},
   "outputs": [
    {
     "data": {
      "text/html": [
       "<div>\n",
       "<style scoped>\n",
       "    .dataframe tbody tr th:only-of-type {\n",
       "        vertical-align: middle;\n",
       "    }\n",
       "\n",
       "    .dataframe tbody tr th {\n",
       "        vertical-align: top;\n",
       "    }\n",
       "\n",
       "    .dataframe thead th {\n",
       "        text-align: right;\n",
       "    }\n",
       "</style>\n",
       "<table border=\"1\" class=\"dataframe\">\n",
       "  <thead>\n",
       "    <tr style=\"text-align: right;\">\n",
       "      <th></th>\n",
       "      <th>Import</th>\n",
       "      <th>Export</th>\n",
       "    </tr>\n",
       "  </thead>\n",
       "  <tbody>\n",
       "    <tr>\n",
       "      <th>2009</th>\n",
       "      <td>1.277223e+08</td>\n",
       "      <td>1.529947e+08</td>\n",
       "    </tr>\n",
       "    <tr>\n",
       "      <th>2010</th>\n",
       "      <td>1.817684e+08</td>\n",
       "      <td>2.019151e+08</td>\n",
       "    </tr>\n",
       "    <tr>\n",
       "      <th>2011</th>\n",
       "      <td>2.262468e+08</td>\n",
       "      <td>2.560387e+08</td>\n",
       "    </tr>\n",
       "    <tr>\n",
       "      <th>2012</th>\n",
       "      <td>2.231835e+08</td>\n",
       "      <td>2.425780e+08</td>\n",
       "    </tr>\n",
       "    <tr>\n",
       "      <th>2013</th>\n",
       "      <td>2.397475e+08</td>\n",
       "      <td>2.420330e+08</td>\n",
       "    </tr>\n",
       "    <tr>\n",
       "      <th>2014</th>\n",
       "      <td>2.291545e+08</td>\n",
       "      <td>2.250984e+08</td>\n",
       "    </tr>\n",
       "    <tr>\n",
       "      <th>2015</th>\n",
       "      <td>1.714462e+08</td>\n",
       "      <td>1.911269e+08</td>\n",
       "    </tr>\n",
       "    <tr>\n",
       "      <th>2016</th>\n",
       "      <td>1.375520e+08</td>\n",
       "      <td>1.852354e+08</td>\n",
       "    </tr>\n",
       "    <tr>\n",
       "      <th>2017</th>\n",
       "      <td>1.507495e+08</td>\n",
       "      <td>2.177392e+08</td>\n",
       "    </tr>\n",
       "    <tr>\n",
       "      <th>2018</th>\n",
       "      <td>1.812305e+08</td>\n",
       "      <td>2.398878e+08</td>\n",
       "    </tr>\n",
       "    <tr>\n",
       "      <th>2019</th>\n",
       "      <td>1.773479e+08</td>\n",
       "      <td>2.253835e+08</td>\n",
       "    </tr>\n",
       "  </tbody>\n",
       "</table>\n",
       "</div>"
      ],
      "text/plain": [
       "            Import        Export\n",
       "2009  1.277223e+08  1.529947e+08\n",
       "2010  1.817684e+08  2.019151e+08\n",
       "2011  2.262468e+08  2.560387e+08\n",
       "2012  2.231835e+08  2.425780e+08\n",
       "2013  2.397475e+08  2.420330e+08\n",
       "2014  2.291545e+08  2.250984e+08\n",
       "2015  1.714462e+08  1.911269e+08\n",
       "2016  1.375520e+08  1.852354e+08\n",
       "2017  1.507495e+08  2.177392e+08\n",
       "2018  1.812305e+08  2.398878e+08\n",
       "2019  1.773479e+08  2.253835e+08"
      ]
     },
     "execution_count": 4,
     "metadata": {},
     "output_type": "execute_result"
    }
   ],
   "source": [
    "trade_df = pd.DataFrame({\n",
    "    \"Import\": bra_imports,\n",
    "    \"Export\": bra_exports\n",
    "}, index = years)\n",
    "trade_df"
   ]
  },
  {
   "cell_type": "code",
   "execution_count": 5,
   "metadata": {},
   "outputs": [
    {
     "data": {
      "text/plain": [
       "<AxesSubplot:>"
      ]
     },
     "execution_count": 5,
     "metadata": {},
     "output_type": "execute_result"
    },
    {
     "data": {
      "image/png": "[encoded data removed]",
      "text/plain": [
       "<Figure size 432x288 with 1 Axes>"
      ]
     },
     "metadata": {
      "needs_background": "light"
     },
     "output_type": "display_data"
    }
   ],
   "source": [
    "trade_df.plot.line()"
   ]
  },
  {
   "cell_type": "code",
   "execution_count": null,
   "metadata": {},
   "outputs": [],
   "source": []
  },
  {
   "cell_type": "code",
   "execution_count": null,
   "metadata": {},
   "outputs": [],
   "source": []
  },
  {
   "cell_type": "code",
   "execution_count": null,
   "metadata": {},
   "outputs": [],
   "source": []
  }
 ],
 "metadata": {
  "kernelspec": {
   "display_name": "Python 3",
   "language": "python",
   "name": "python3"
  },
  "language_info": {
   "codemirror_mode": {
    "name": "ipython",
    "version": 3
   },
   "file_extension": ".py",
   "mimetype": "text/x-python",
   "name": "python",
   "nbconvert_exporter": "python",
   "pygments_lexer": "ipython3",
   "version": "3.8.5"
  }
 },
 "nbformat": 4,
 "nbformat_minor": 4
}
